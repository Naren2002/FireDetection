{
 "cells": [
  {
   "cell_type": "code",
   "execution_count": 3,
   "metadata": {},
   "outputs": [],
   "source": [
    "import os\n",
    "  \n",
    "# Function to rename multiple files\n",
    "def main():\n",
    "  \n",
    "    try:\n",
    "        for count, filename in enumerate(os.listdir(\"data/initial/fire\")):\n",
    "            dst =\"fire\" + str(count) + \".jpg\"\n",
    "            src ='data/initial/fire/'+ filename\n",
    "            dst ='data/initial/fire/'+ dst\n",
    "\n",
    "            # rename() function will\n",
    "            # rename all the files\n",
    "            os.rename(src, dst)\n",
    "    except:\n",
    "        pass\n",
    "    \n",
    "    try:\n",
    "        for count, filename in enumerate(os.listdir(\"data/initial/notFire\")):\n",
    "            dst =\"notFire\" + str(count) + \".jpg\"\n",
    "            src ='data/initial/notFire/'+ filename\n",
    "            dst ='data/initial/notFire/'+ dst\n",
    "\n",
    "            # rename() function will\n",
    "            # rename all the files\n",
    "            os.rename(src, dst)\n",
    "            \n",
    "    except:\n",
    "        pass\n",
    "  \n",
    "# Driver Code\n",
    "if __name__ == '__main__':\n",
    "      \n",
    "    # Calling main() function\n",
    "    main()"
   ]
  },
  {
   "cell_type": "code",
   "execution_count": null,
   "metadata": {},
   "outputs": [],
   "source": []
  }
 ],
 "metadata": {
  "kernelspec": {
   "display_name": "Python 3",
   "language": "python",
   "name": "python3"
  },
  "language_info": {
   "codemirror_mode": {
    "name": "ipython",
    "version": 3
   },
   "file_extension": ".py",
   "mimetype": "text/x-python",
   "name": "python",
   "nbconvert_exporter": "python",
   "pygments_lexer": "ipython3",
   "version": "3.8.5"
  }
 },
 "nbformat": 4,
 "nbformat_minor": 4
}
