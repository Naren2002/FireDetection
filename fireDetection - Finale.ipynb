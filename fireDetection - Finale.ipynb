{
 "cells": [
  {
   "cell_type": "markdown",
   "metadata": {},
   "source": [
    "# CSE 1015 - J - Component\n",
    "# Fire detection\n",
    "\n",
    "Team Members \n",
    "\n",
    "19BAI1035 - S.O.Narendran\\\n",
    "19BAI1160 - Barath Hari Hara Moorthy"
   ]
  },
  {
   "cell_type": "markdown",
   "metadata": {},
   "source": [
    "## Importing the necessary libraries"
   ]
  },
  {
   "cell_type": "code",
   "execution_count": 1,
   "metadata": {},
   "outputs": [],
   "source": [
    "import tensorflow as tf \n",
    "import os\n",
    "import shutil\n",
    "import glob\n",
    "import random\n",
    "import tensorflow as tf\n",
    "import keras_preprocessing\n",
    "from keras_preprocessing import image\n",
    "from keras_preprocessing.image import ImageDataGenerator"
   ]
  },
  {
   "cell_type": "code",
   "execution_count": 2,
   "metadata": {},
   "outputs": [
    {
     "name": "stdout",
     "output_type": "stream",
     "text": [
      "Tensorflow version:  2.4.1\n"
     ]
    }
   ],
   "source": [
    "print(\"Tensorflow version: \", tf.__version__)"
   ]
  },
  {
   "cell_type": "markdown",
   "metadata": {},
   "source": [
    "## Preprocessing of Data"
   ]
  },
  {
   "cell_type": "code",
   "execution_count": 3,
   "metadata": {},
   "outputs": [],
   "source": [
    "os.chdir(\"data/initial\")"
   ]
  },
  {
   "cell_type": "code",
   "execution_count": 4,
   "metadata": {},
   "outputs": [],
   "source": [
    "if (os.path.isdir(\"data/initial/fire\") is False):\n",
    "    try:\n",
    "        os.makedirs('train/fire')\n",
    "        os.makedirs('train/notFire')\n",
    "        os.makedirs('valid/fire')\n",
    "        os.makedirs('valid/notFire')\n",
    "        os.makedirs('test/fire')\n",
    "        os.makedirs('test/notFire')\n",
    "    except:\n",
    "        pass\n",
    "    try:\n",
    "        for c in random.sample(glob.glob('fire*'), 519):\n",
    "            shutil.move(c, 'train/fire')\n",
    "        for c in random.sample(glob.glob('notFire*'), 400):\n",
    "            shutil.move(c, 'train/notFire')\n",
    "        for c in random.sample(glob.glob('fire*'), 173):\n",
    "            shutil.move(c, 'valid/fire')\n",
    "        for c in random.sample(glob.glob('notFire*'), 150):\n",
    "            shutil.move(c, 'valid/notFire')\n",
    "        for c in random.sample(glob.glob('fire*'), 173):\n",
    "            shutil.move(c, 'test/fire')\n",
    "        for c in random.sample(glob.glob('notFire*'), 150):\n",
    "            shutil.move(c, 'test/notFire')\n",
    "    except:\n",
    "        pass"
   ]
  },
  {
   "cell_type": "code",
   "execution_count": 5,
   "metadata": {},
   "outputs": [],
   "source": [
    "os.path.abspath(os.getcwd())\n",
    "os.chdir(\"../..\")"
   ]
  },
  {
   "cell_type": "code",
   "execution_count": 6,
   "metadata": {},
   "outputs": [],
   "source": [
    "trainPath = 'data/initial/train' \n",
    "validPath = 'data/initial/valid'\n",
    "testPath = 'data/initial/test'"
   ]
  },
  {
   "cell_type": "markdown",
   "metadata": {},
   "source": [
    "## Data Splitting and augmentation\n",
    "\n",
    "\n",
    "The data is split into three parts for training, validation and testing.\n",
    "All three parts are normalized or rescaled such that the values lie between 0 and 1.\n",
    "\n",
    "The training data is further expanded by the ImageDataGenerator function from Keras, which flips the images, rotates the, and shifts their height and introduce it to the data as a completely new one.\n",
    "\n",
    "All the images are then resized to fit (224, 224) pixels \n"
   ]
  },
  {
   "cell_type": "code",
   "execution_count": 7,
   "metadata": {},
   "outputs": [
    {
     "name": "stdout",
     "output_type": "stream",
     "text": [
      "Found 919 images belonging to 2 classes.\n",
      "Found 323 images belonging to 2 classes.\n",
      "Found 323 images belonging to 2 classes.\n"
     ]
    }
   ],
   "source": [
    "training_datagen = ImageDataGenerator(rescale = 1./255, \n",
    "                                      horizontal_flip=True, \n",
    "                                      rotation_range=30,\n",
    "                                      height_shift_range=0.2,\n",
    "                                      fill_mode='nearest')\n",
    "\n",
    "validation_datagen = ImageDataGenerator(rescale = 1./255)\n",
    "\n",
    "train_generator = training_datagen.flow_from_directory(trainPath, \n",
    "                                                       target_size=(224,224), \n",
    "                                                       class_mode='categorical', \n",
    "                                                       batch_size = 64)\n",
    "\n",
    "validation_generator = validation_datagen.flow_from_directory(validPath,\n",
    "                                                              target_size=(224,224),\n",
    "                                                              class_mode='categorical',\n",
    "                                                              batch_size = 16)\n",
    "\n",
    "test_datagen = ImageDataGenerator(rescale = 1./255)\n",
    "\n",
    "test_generator = test_datagen.flow_from_directory(testPath,\n",
    "                                                  target_size=(224,224),\n",
    "                                                  class_mode='categorical',\n",
    "                                                  batch_size = 16)\n",
    "\n"
   ]
  },
  {
   "cell_type": "markdown",
   "metadata": {},
   "source": [
    "## CNN Model Creation\n",
    "\n",
    "### Convolutional Layers\n",
    "\n",
    "We used three convolutional and max pooling layers with relu as the activation function.\n",
    "Using relu as the activation function helps in making the data more non-linear. \n",
    "\n",
    "### Dense Layers\n",
    "\n",
    "We have two hidden layers and one output layers with the activation function in the hidden layers as relu and the activation in the output layer as softmax. We have drop out layers to avoid overfitting the training data. "
   ]
  },
  {
   "cell_type": "markdown",
   "metadata": {},
   "source": [
    "We will train the model with three different sets of parameters and choose the best model. The choice of parameters are purely trial and error."
   ]
  },
  {
   "cell_type": "code",
   "execution_count": 18,
   "metadata": {},
   "outputs": [
    {
     "name": "stdout",
     "output_type": "stream",
     "text": [
      "Model: \"sequential_4\"\n",
      "_________________________________________________________________\n",
      "Layer (type)                 Output Shape              Param #   \n",
      "=================================================================\n",
      "conv2d_13 (Conv2D)           (None, 54, 54, 100)       36400     \n",
      "_________________________________________________________________\n",
      "average_pooling2d_6 (Average (None, 26, 26, 100)       0         \n",
      "_________________________________________________________________\n",
      "conv2d_14 (Conv2D)           (None, 22, 22, 100)       250100    \n",
      "_________________________________________________________________\n",
      "average_pooling2d_7 (Average (None, 10, 10, 100)       0         \n",
      "_________________________________________________________________\n",
      "conv2d_15 (Conv2D)           (None, 6, 6, 50)          125050    \n",
      "_________________________________________________________________\n",
      "average_pooling2d_8 (Average (None, 2, 2, 50)          0         \n",
      "_________________________________________________________________\n",
      "flatten_4 (Flatten)          (None, 200)               0         \n",
      "_________________________________________________________________\n",
      "dropout_12 (Dropout)         (None, 200)               0         \n",
      "_________________________________________________________________\n",
      "dense_12 (Dense)             (None, 1024)              205824    \n",
      "_________________________________________________________________\n",
      "dropout_13 (Dropout)         (None, 1024)              0         \n",
      "_________________________________________________________________\n",
      "dense_13 (Dense)             (None, 512)               524800    \n",
      "_________________________________________________________________\n",
      "dropout_14 (Dropout)         (None, 512)               0         \n",
      "_________________________________________________________________\n",
      "dense_14 (Dense)             (None, 2)                 1026      \n",
      "=================================================================\n",
      "Total params: 1,143,200\n",
      "Trainable params: 1,143,200\n",
      "Non-trainable params: 0\n",
      "_________________________________________________________________\n"
     ]
    }
   ],
   "source": [
    "from tensorflow.keras.optimizers import RMSprop, Adam\n",
    "from tensorflow.keras.models import Sequential\n",
    "from tensorflow.keras.layers import Conv2D, AveragePooling2D, Flatten, Dropout, Dense\n",
    "\n",
    "def modelCreation():\n",
    "    model = Sequential([\n",
    "              Conv2D(100, (11,11), strides=(4,4), activation='relu', input_shape=(224, 224, 3)),\n",
    "              AveragePooling2D(pool_size = (3,3), strides=(2,2)),\n",
    "              Conv2D(100, (5,5), activation='relu'),\n",
    "              AveragePooling2D(pool_size = (3,3), strides=(2,2)),\n",
    "              Conv2D(50, (5,5), activation='relu'),\n",
    "              AveragePooling2D(pool_size = (3,3), strides=(2,2)),\n",
    "              Flatten(), #Flattens the input from the prev layer\n",
    "              Dropout(0.2),\n",
    "              Dense(1024, activation='relu'),\n",
    "              Dropout(0.1),\n",
    "              Dense(512, activation='relu'),\n",
    "              Dropout(0.1),\n",
    "              Dense(2, activation='softmax')\n",
    "    ])\n",
    "    model.compile(loss='categorical_crossentropy',\n",
    "                  optimizer=Adam(lr=0.0001),\n",
    "                  metrics=['acc'])\n",
    "    model.summary()\n",
    "    return(model)\n",
    "\n",
    "model = modelCreation()"
   ]
  },
  {
   "cell_type": "code",
   "execution_count": 9,
   "metadata": {},
   "outputs": [
    {
     "data": {
      "text/plain": [
       "'C:\\\\Users\\\\Naren02\\\\Desktop\\\\Projects\\\\ML\\\\Code'"
      ]
     },
     "execution_count": 9,
     "metadata": {},
     "output_type": "execute_result"
    }
   ],
   "source": [
    "os.path.abspath(os.getcwd())"
   ]
  },
  {
   "cell_type": "markdown",
   "metadata": {},
   "source": [
    "### Callback function - saving checkpoints\n",
    "\n",
    "We are creating a callback function that will save the model's weights after every iteration or epoch while training the model. This will allow us to load a pre-trained model, the next time we use it instead of training the model with the training set from scratch."
   ]
  },
  {
   "cell_type": "code",
   "execution_count": 10,
   "metadata": {},
   "outputs": [],
   "source": [
    "checkpoint_path = \"training_1/cp.ckpt\"\n",
    "checkpoint_dir = os.path.dirname(checkpoint_path)\n",
    "\n",
    "# Creating a callback that saves the model weights after every epoch\n",
    "\n",
    "cp_callback = tf.keras.callbacks.ModelCheckpoint(filepath=checkpoint_path,\n",
    "                                                 save_weights_only=True,\n",
    "                                                 verbose=1)"
   ]
  },
  {
   "cell_type": "markdown",
   "metadata": {},
   "source": [
    "## CNN training - First set"
   ]
  },
  {
   "cell_type": "code",
   "execution_count": 11,
   "metadata": {},
   "outputs": [
    {
     "name": "stdout",
     "output_type": "stream",
     "text": [
      "Epoch 1/50\n",
      "15/15 [==============================] - 38s 3s/step - loss: 0.6672 - acc: 0.6472 - val_loss: 0.4881 - val_acc: 0.7958\n",
      "\n",
      "Epoch 00001: saving model to training_1\\cp.ckpt\n",
      "Epoch 2/50\n",
      "15/15 [==============================] - 38s 3s/step - loss: 0.5064 - acc: 0.7444 - val_loss: 0.4791 - val_acc: 0.7708\n",
      "\n",
      "Epoch 00002: saving model to training_1\\cp.ckpt\n",
      "Epoch 3/50\n",
      "15/15 [==============================] - 37s 2s/step - loss: 0.4606 - acc: 0.7873 - val_loss: 0.4388 - val_acc: 0.8208\n",
      "\n",
      "Epoch 00003: saving model to training_1\\cp.ckpt\n",
      "Epoch 4/50\n",
      "15/15 [==============================] - 37s 2s/step - loss: 0.4538 - acc: 0.8078 - val_loss: 0.4198 - val_acc: 0.8208\n",
      "\n",
      "Epoch 00004: saving model to training_1\\cp.ckpt\n",
      "Epoch 5/50\n",
      "15/15 [==============================] - 37s 2s/step - loss: 0.4266 - acc: 0.8043 - val_loss: 0.4503 - val_acc: 0.7833\n",
      "\n",
      "Epoch 00005: saving model to training_1\\cp.ckpt\n",
      "Epoch 6/50\n",
      "15/15 [==============================] - 37s 2s/step - loss: 0.4092 - acc: 0.8104 - val_loss: 0.3842 - val_acc: 0.8250\n",
      "\n",
      "Epoch 00006: saving model to training_1\\cp.ckpt\n",
      "Epoch 7/50\n",
      "15/15 [==============================] - 37s 2s/step - loss: 0.3981 - acc: 0.8437 - val_loss: 0.3257 - val_acc: 0.8833\n",
      "\n",
      "Epoch 00007: saving model to training_1\\cp.ckpt\n",
      "Epoch 8/50\n",
      "15/15 [==============================] - 37s 2s/step - loss: 0.3886 - acc: 0.8555 - val_loss: 0.3385 - val_acc: 0.8833\n",
      "\n",
      "Epoch 00008: saving model to training_1\\cp.ckpt\n",
      "Epoch 9/50\n",
      "15/15 [==============================] - 38s 2s/step - loss: 0.3588 - acc: 0.8537 - val_loss: 0.3579 - val_acc: 0.8500\n",
      "\n",
      "Epoch 00009: saving model to training_1\\cp.ckpt\n",
      "Epoch 10/50\n",
      "15/15 [==============================] - 37s 3s/step - loss: 0.3198 - acc: 0.8652 - val_loss: 0.3234 - val_acc: 0.8667\n",
      "\n",
      "Epoch 00010: saving model to training_1\\cp.ckpt\n",
      "Epoch 11/50\n",
      "15/15 [==============================] - 39s 3s/step - loss: 0.3525 - acc: 0.8580 - val_loss: 0.3028 - val_acc: 0.8833\n",
      "\n",
      "Epoch 00011: saving model to training_1\\cp.ckpt\n",
      "Epoch 12/50\n",
      "15/15 [==============================] - 37s 2s/step - loss: 0.3237 - acc: 0.8546 - val_loss: 0.3265 - val_acc: 0.8792\n",
      "\n",
      "Epoch 00012: saving model to training_1\\cp.ckpt\n",
      "Epoch 13/50\n",
      "15/15 [==============================] - 38s 3s/step - loss: 0.3300 - acc: 0.8689 - val_loss: 0.3024 - val_acc: 0.9042\n",
      "\n",
      "Epoch 00013: saving model to training_1\\cp.ckpt\n",
      "Epoch 14/50\n",
      "15/15 [==============================] - 37s 2s/step - loss: 0.3131 - acc: 0.8784 - val_loss: 0.2599 - val_acc: 0.9000\n",
      "\n",
      "Epoch 00014: saving model to training_1\\cp.ckpt\n",
      "Epoch 15/50\n",
      "15/15 [==============================] - 37s 2s/step - loss: 0.2954 - acc: 0.8781 - val_loss: 0.3218 - val_acc: 0.8958\n",
      "\n",
      "Epoch 00015: saving model to training_1\\cp.ckpt\n",
      "Epoch 16/50\n",
      "15/15 [==============================] - 41s 3s/step - loss: 0.2785 - acc: 0.8825 - val_loss: 0.2877 - val_acc: 0.8875\n",
      "\n",
      "Epoch 00016: saving model to training_1\\cp.ckpt\n",
      "Epoch 17/50\n",
      "15/15 [==============================] - 37s 2s/step - loss: 0.3060 - acc: 0.8775 - val_loss: 0.2872 - val_acc: 0.9000\n",
      "\n",
      "Epoch 00017: saving model to training_1\\cp.ckpt\n",
      "Epoch 18/50\n",
      "15/15 [==============================] - 38s 3s/step - loss: 0.2856 - acc: 0.8773 - val_loss: 0.3249 - val_acc: 0.8750\n",
      "\n",
      "Epoch 00018: saving model to training_1\\cp.ckpt\n",
      "Epoch 19/50\n",
      "15/15 [==============================] - 38s 3s/step - loss: 0.2750 - acc: 0.8927 - val_loss: 0.3153 - val_acc: 0.8833\n",
      "\n",
      "Epoch 00019: saving model to training_1\\cp.ckpt\n",
      "Epoch 20/50\n",
      "15/15 [==============================] - 38s 3s/step - loss: 0.3109 - acc: 0.8692 - val_loss: 0.4238 - val_acc: 0.8250\n",
      "\n",
      "Epoch 00020: saving model to training_1\\cp.ckpt\n",
      "Epoch 21/50\n",
      "15/15 [==============================] - 37s 2s/step - loss: 0.3236 - acc: 0.8610 - val_loss: 0.2881 - val_acc: 0.9167\n",
      "\n",
      "Epoch 00021: saving model to training_1\\cp.ckpt\n",
      "Epoch 22/50\n",
      "15/15 [==============================] - 37s 3s/step - loss: 0.2765 - acc: 0.9021 - val_loss: 0.3449 - val_acc: 0.8833\n",
      "\n",
      "Epoch 00022: saving model to training_1\\cp.ckpt\n",
      "Epoch 23/50\n",
      "15/15 [==============================] - 36s 2s/step - loss: 0.2576 - acc: 0.8965 - val_loss: 0.2819 - val_acc: 0.9208\n",
      "\n",
      "Epoch 00023: saving model to training_1\\cp.ckpt\n",
      "Epoch 24/50\n",
      "15/15 [==============================] - 36s 2s/step - loss: 0.2631 - acc: 0.8972 - val_loss: 0.2948 - val_acc: 0.8875\n",
      "\n",
      "Epoch 00024: saving model to training_1\\cp.ckpt\n",
      "Epoch 25/50\n",
      "15/15 [==============================] - 37s 2s/step - loss: 0.2853 - acc: 0.8849 - val_loss: 0.2632 - val_acc: 0.9083\n",
      "\n",
      "Epoch 00025: saving model to training_1\\cp.ckpt\n",
      "Epoch 26/50\n",
      "15/15 [==============================] - 36s 2s/step - loss: 0.2444 - acc: 0.9023 - val_loss: 0.3529 - val_acc: 0.8833\n",
      "\n",
      "Epoch 00026: saving model to training_1\\cp.ckpt\n",
      "Epoch 27/50\n",
      "15/15 [==============================] - 35s 2s/step - loss: 0.2874 - acc: 0.8702 - val_loss: 0.3192 - val_acc: 0.9000\n",
      "\n",
      "Epoch 00027: saving model to training_1\\cp.ckpt\n",
      "Epoch 28/50\n",
      "15/15 [==============================] - 35s 2s/step - loss: 0.2231 - acc: 0.9185 - val_loss: 0.2229 - val_acc: 0.9125\n",
      "\n",
      "Epoch 00028: saving model to training_1\\cp.ckpt\n",
      "Epoch 29/50\n",
      "15/15 [==============================] - 36s 2s/step - loss: 0.2513 - acc: 0.9056 - val_loss: 0.2612 - val_acc: 0.9042\n",
      "\n",
      "Epoch 00029: saving model to training_1\\cp.ckpt\n",
      "Epoch 30/50\n",
      "15/15 [==============================] - 35s 2s/step - loss: 0.2198 - acc: 0.9157 - val_loss: 0.2366 - val_acc: 0.9042\n",
      "\n",
      "Epoch 00030: saving model to training_1\\cp.ckpt\n",
      "Epoch 31/50\n",
      "15/15 [==============================] - 35s 2s/step - loss: 0.2476 - acc: 0.8973 - val_loss: 0.3228 - val_acc: 0.9083\n",
      "\n",
      "Epoch 00031: saving model to training_1\\cp.ckpt\n",
      "Epoch 32/50\n",
      "15/15 [==============================] - 36s 2s/step - loss: 0.2485 - acc: 0.8964 - val_loss: 0.3165 - val_acc: 0.8875\n",
      "\n",
      "Epoch 00032: saving model to training_1\\cp.ckpt\n",
      "Epoch 33/50\n",
      "15/15 [==============================] - 36s 2s/step - loss: 0.2383 - acc: 0.8961 - val_loss: 0.2323 - val_acc: 0.9208\n",
      "\n",
      "Epoch 00033: saving model to training_1\\cp.ckpt\n",
      "Epoch 34/50\n",
      "15/15 [==============================] - 35s 2s/step - loss: 0.2160 - acc: 0.9162 - val_loss: 0.2967 - val_acc: 0.8875\n",
      "\n",
      "Epoch 00034: saving model to training_1\\cp.ckpt\n",
      "Epoch 35/50\n",
      "15/15 [==============================] - 35s 2s/step - loss: 0.2244 - acc: 0.9085 - val_loss: 0.2503 - val_acc: 0.9250\n",
      "\n",
      "Epoch 00035: saving model to training_1\\cp.ckpt\n",
      "Epoch 36/50\n",
      "15/15 [==============================] - 35s 2s/step - loss: 0.2469 - acc: 0.9092 - val_loss: 0.2687 - val_acc: 0.8875\n",
      "\n",
      "Epoch 00036: saving model to training_1\\cp.ckpt\n",
      "Epoch 37/50\n",
      "15/15 [==============================] - 36s 2s/step - loss: 0.2268 - acc: 0.9097 - val_loss: 0.1903 - val_acc: 0.9333\n",
      "\n",
      "Epoch 00037: saving model to training_1\\cp.ckpt\n",
      "Epoch 38/50\n",
      "15/15 [==============================] - 36s 2s/step - loss: 0.2083 - acc: 0.9112 - val_loss: 0.3017 - val_acc: 0.8833\n",
      "\n",
      "Epoch 00038: saving model to training_1\\cp.ckpt\n",
      "Epoch 39/50\n",
      "15/15 [==============================] - 39s 3s/step - loss: 0.2078 - acc: 0.9113 - val_loss: 0.2377 - val_acc: 0.9208\n",
      "\n",
      "Epoch 00039: saving model to training_1\\cp.ckpt\n",
      "Epoch 40/50\n",
      "15/15 [==============================] - 44s 3s/step - loss: 0.1986 - acc: 0.9273 - val_loss: 0.2770 - val_acc: 0.8833\n",
      "\n",
      "Epoch 00040: saving model to training_1\\cp.ckpt\n",
      "Epoch 41/50\n",
      "15/15 [==============================] - 39s 3s/step - loss: 0.2163 - acc: 0.9195 - val_loss: 0.2832 - val_acc: 0.9208\n",
      "\n",
      "Epoch 00041: saving model to training_1\\cp.ckpt\n",
      "Epoch 42/50\n",
      "15/15 [==============================] - 37s 2s/step - loss: 0.1857 - acc: 0.9347 - val_loss: 0.2603 - val_acc: 0.9042\n",
      "\n",
      "Epoch 00042: saving model to training_1\\cp.ckpt\n",
      "Epoch 43/50\n",
      "15/15 [==============================] - 37s 2s/step - loss: 0.2022 - acc: 0.9173 - val_loss: 0.2448 - val_acc: 0.9167\n",
      "\n",
      "Epoch 00043: saving model to training_1\\cp.ckpt\n",
      "Epoch 44/50\n",
      "15/15 [==============================] - 36s 2s/step - loss: 0.1910 - acc: 0.9248 - val_loss: 0.2770 - val_acc: 0.9125\n",
      "\n",
      "Epoch 00044: saving model to training_1\\cp.ckpt\n",
      "Epoch 45/50\n",
      "15/15 [==============================] - 37s 2s/step - loss: 0.2123 - acc: 0.9127 - val_loss: 0.2769 - val_acc: 0.8917\n",
      "\n",
      "Epoch 00045: saving model to training_1\\cp.ckpt\n",
      "Epoch 46/50\n",
      "15/15 [==============================] - 38s 3s/step - loss: 0.1956 - acc: 0.9302 - val_loss: 0.2831 - val_acc: 0.8875\n"
     ]
    },
    {
     "name": "stdout",
     "output_type": "stream",
     "text": [
      "\n",
      "Epoch 00046: saving model to training_1\\cp.ckpt\n",
      "Epoch 47/50\n",
      "15/15 [==============================] - 37s 2s/step - loss: 0.1992 - acc: 0.9074 - val_loss: 0.2608 - val_acc: 0.8875\n",
      "\n",
      "Epoch 00047: saving model to training_1\\cp.ckpt\n",
      "Epoch 48/50\n",
      "15/15 [==============================] - 37s 2s/step - loss: 0.2079 - acc: 0.9084 - val_loss: 0.2187 - val_acc: 0.9292\n",
      "\n",
      "Epoch 00048: saving model to training_1\\cp.ckpt\n",
      "Epoch 49/50\n",
      "15/15 [==============================] - 37s 3s/step - loss: 0.2002 - acc: 0.9311 - val_loss: 0.3451 - val_acc: 0.8583\n",
      "\n",
      "Epoch 00049: saving model to training_1\\cp.ckpt\n",
      "Epoch 50/50\n",
      "15/15 [==============================] - 38s 3s/step - loss: 0.2397 - acc: 0.8995 - val_loss: 0.2443 - val_acc: 0.9125\n",
      "\n",
      "Epoch 00050: saving model to training_1\\cp.ckpt\n"
     ]
    }
   ],
   "source": [
    "# Train the model with the new callback so that we don't have to train the model repeatedly\n",
    "\n",
    "history = model.fit(train_generator,\n",
    "                    steps_per_epoch = 15,\n",
    "                    epochs=50,\n",
    "                    validation_data=validation_generator,\n",
    "                    validation_steps = 15,\n",
    "                    callbacks=[cp_callback])  # Passing the callback function to training"
   ]
  },
  {
   "cell_type": "code",
   "execution_count": 16,
   "metadata": {},
   "outputs": [
    {
     "data": {
      "image/png": "[encoded data removed]",
      "text/plain": [
       "<Figure size 432x288 with 1 Axes>"
      ]
     },
     "metadata": {
      "needs_background": "light"
     },
     "output_type": "display_data"
    },
    {
     "data": {
      "text/plain": [
       "<Figure size 432x288 with 0 Axes>"
      ]
     },
     "metadata": {},
     "output_type": "display_data"
    },
    {
     "data": {
      "image/png": "[encoded data removed]",
      "text/plain": [
       "<Figure size 432x288 with 1 Axes>"
      ]
     },
     "metadata": {
      "needs_background": "light"
     },
     "output_type": "display_data"
    },
    {
     "data": {
      "text/plain": [
       "<Figure size 432x288 with 0 Axes>"
      ]
     },
     "metadata": {},
     "output_type": "display_data"
    }
   ],
   "source": [
    "%matplotlib inline\n",
    "import matplotlib.pyplot as plt\n",
    "acc = history.history['acc']\n",
    "val_acc = history.history['val_acc']\n",
    "loss = history.history['loss']\n",
    "val_loss = history.history['val_loss']\n",
    "\n",
    "epochs = range(len(acc))\n",
    "\n",
    "plt.plot(epochs, acc, 'g', label='Training accuracy')\n",
    "plt.plot(epochs, val_acc, 'b', label='Validation accuracy')\n",
    "plt.title('Training and validation accuracy')\n",
    "plt.legend(loc=0)\n",
    "plt.figure()\n",
    "plt.show()\n",
    "\n",
    "plt.plot(epochs, loss, 'r', label='Training loss')\n",
    "plt.plot(epochs, val_loss, 'orange', label='Validation loss')\n",
    "plt.title('Training and validation loss')\n",
    "\n",
    "plt.legend(loc=0)\n",
    "plt.figure()\n",
    "plt.show()"
   ]
  },
  {
   "cell_type": "code",
   "execution_count": 19,
   "metadata": {},
   "outputs": [
    {
     "name": "stdout",
     "output_type": "stream",
     "text": [
      "Model: \"sequential_5\"\n",
      "_________________________________________________________________\n",
      "Layer (type)                 Output Shape              Param #   \n",
      "=================================================================\n",
      "conv2d_16 (Conv2D)           (None, 54, 54, 100)       36400     \n",
      "_________________________________________________________________\n",
      "average_pooling2d_9 (Average (None, 26, 26, 100)       0         \n",
      "_________________________________________________________________\n",
      "conv2d_17 (Conv2D)           (None, 22, 22, 100)       250100    \n",
      "_________________________________________________________________\n",
      "average_pooling2d_10 (Averag (None, 10, 10, 100)       0         \n",
      "_________________________________________________________________\n",
      "conv2d_18 (Conv2D)           (None, 6, 6, 50)          125050    \n",
      "_________________________________________________________________\n",
      "average_pooling2d_11 (Averag (None, 2, 2, 50)          0         \n",
      "_________________________________________________________________\n",
      "flatten_5 (Flatten)          (None, 200)               0         \n",
      "_________________________________________________________________\n",
      "dropout_15 (Dropout)         (None, 200)               0         \n",
      "_________________________________________________________________\n",
      "dense_15 (Dense)             (None, 1024)              205824    \n",
      "_________________________________________________________________\n",
      "dropout_16 (Dropout)         (None, 1024)              0         \n",
      "_________________________________________________________________\n",
      "dense_16 (Dense)             (None, 512)               524800    \n",
      "_________________________________________________________________\n",
      "dropout_17 (Dropout)         (None, 512)               0         \n",
      "_________________________________________________________________\n",
      "dense_17 (Dense)             (None, 2)                 1026      \n",
      "=================================================================\n",
      "Total params: 1,143,200\n",
      "Trainable params: 1,143,200\n",
      "Non-trainable params: 0\n",
      "_________________________________________________________________\n",
      "21/21 - 7s - loss: 0.2492 - acc: 0.8854\n",
      "Model accuracy for the testing set: 88.54%\n"
     ]
    }
   ],
   "source": [
    "newModel = modelCreation()\n",
    "\n",
    "# Loads the weights\n",
    "\n",
    "newModel.load_weights(checkpoint_path)\n",
    "\n",
    "# Evaluate the saved model\n",
    "\n",
    "loss, acc = newModel.evaluate(test_generator, verbose=2)\n",
    "print(\"Model accuracy for the testing set: {:5.2f}%\".format(100 * acc))"
   ]
  },
  {
   "cell_type": "markdown",
   "metadata": {},
   "source": [
    "## CNN training - Second set"
   ]
  },
  {
   "cell_type": "code",
   "execution_count": 20,
   "metadata": {},
   "outputs": [
    {
     "name": "stdout",
     "output_type": "stream",
     "text": [
      "Model: \"sequential_6\"\n",
      "_________________________________________________________________\n",
      "Layer (type)                 Output Shape              Param #   \n",
      "=================================================================\n",
      "conv2d_19 (Conv2D)           (None, 54, 54, 100)       36400     \n",
      "_________________________________________________________________\n",
      "max_pooling2d_6 (MaxPooling2 (None, 26, 26, 100)       0         \n",
      "_________________________________________________________________\n",
      "conv2d_20 (Conv2D)           (None, 22, 22, 100)       250100    \n",
      "_________________________________________________________________\n",
      "max_pooling2d_7 (MaxPooling2 (None, 10, 10, 100)       0         \n",
      "_________________________________________________________________\n",
      "conv2d_21 (Conv2D)           (None, 6, 6, 50)          125050    \n",
      "_________________________________________________________________\n",
      "max_pooling2d_8 (MaxPooling2 (None, 2, 2, 50)          0         \n",
      "_________________________________________________________________\n",
      "flatten_6 (Flatten)          (None, 200)               0         \n",
      "_________________________________________________________________\n",
      "dropout_18 (Dropout)         (None, 200)               0         \n",
      "_________________________________________________________________\n",
      "dense_18 (Dense)             (None, 2048)              411648    \n",
      "_________________________________________________________________\n",
      "dropout_19 (Dropout)         (None, 2048)              0         \n",
      "_________________________________________________________________\n",
      "dense_19 (Dense)             (None, 2)                 4098      \n",
      "=================================================================\n",
      "Total params: 827,296\n",
      "Trainable params: 827,296\n",
      "Non-trainable params: 0\n",
      "_________________________________________________________________\n"
     ]
    }
   ],
   "source": [
    "from tensorflow.keras.optimizers import RMSprop, Adam\n",
    "from tensorflow.keras.models import Sequential\n",
    "from tensorflow.keras.layers import Conv2D, MaxPooling2D, Flatten, Dropout, Dense\n",
    "\n",
    "def modelCreation():\n",
    "    model = Sequential([\n",
    "              Conv2D(100, (11,11), strides=(4,4), activation='relu', input_shape=(224, 224, 3)),\n",
    "              MaxPooling2D(pool_size = (3,3), strides=(2,2)),\n",
    "              Conv2D(100, (5,5), activation='relu'),\n",
    "              MaxPooling2D(pool_size = (3,3), strides=(2,2)),\n",
    "              Conv2D(50, (5,5), activation='relu'),\n",
    "              MaxPooling2D(pool_size = (3,3), strides=(2,2)),\n",
    "              Flatten(),\n",
    "              Dropout(0.2),\n",
    "              Dense(2048, activation='relu'),\n",
    "              Dropout(0.2),\n",
    "              Dense(2, activation='softmax')\n",
    "    ])\n",
    "    model.compile(loss='categorical_crossentropy',\n",
    "                  optimizer=Adam(lr=0.0001),\n",
    "                  metrics=['acc'])\n",
    "    model.summary()\n",
    "    return(model)\n",
    "\n",
    "model = modelCreation()"
   ]
  },
  {
   "cell_type": "code",
   "execution_count": 21,
   "metadata": {},
   "outputs": [],
   "source": [
    "checkpoint_path = \"training_2/cp.ckpt\"\n",
    "checkpoint_dir = os.path.dirname(checkpoint_path)\n",
    "\n",
    "# Creating a callback that saves the model weights after every epoch\n",
    "\n",
    "cp_callback = tf.keras.callbacks.ModelCheckpoint(filepath=checkpoint_path,\n",
    "                                                 save_weights_only=True,\n",
    "                                                 verbose=1)"
   ]
  },
  {
   "cell_type": "code",
   "execution_count": 22,
   "metadata": {},
   "outputs": [
    {
     "name": "stdout",
     "output_type": "stream",
     "text": [
      "Epoch 1/50\n",
      "15/15 [==============================] - 38s 3s/step - loss: 0.6647 - acc: 0.6004 - val_loss: 0.4690 - val_acc: 0.8167\n",
      "\n",
      "Epoch 00001: saving model to training_2\\cp.ckpt\n",
      "Epoch 2/50\n",
      "15/15 [==============================] - 38s 3s/step - loss: 0.4472 - acc: 0.8216 - val_loss: 0.4103 - val_acc: 0.8417\n",
      "\n",
      "Epoch 00002: saving model to training_2\\cp.ckpt\n",
      "Epoch 3/50\n",
      "15/15 [==============================] - 38s 3s/step - loss: 0.4248 - acc: 0.8162 - val_loss: 0.4396 - val_acc: 0.8417\n",
      "\n",
      "Epoch 00003: saving model to training_2\\cp.ckpt\n",
      "Epoch 4/50\n",
      "15/15 [==============================] - 38s 3s/step - loss: 0.3787 - acc: 0.8472 - val_loss: 0.3725 - val_acc: 0.8375\n",
      "\n",
      "Epoch 00004: saving model to training_2\\cp.ckpt\n",
      "Epoch 5/50\n",
      "15/15 [==============================] - 37s 2s/step - loss: 0.3223 - acc: 0.8673 - val_loss: 0.2925 - val_acc: 0.9000\n",
      "\n",
      "Epoch 00005: saving model to training_2\\cp.ckpt\n",
      "Epoch 6/50\n",
      "15/15 [==============================] - 37s 2s/step - loss: 0.3167 - acc: 0.8610 - val_loss: 0.3767 - val_acc: 0.8458\n",
      "\n",
      "Epoch 00006: saving model to training_2\\cp.ckpt\n",
      "Epoch 7/50\n",
      "15/15 [==============================] - 39s 3s/step - loss: 0.3325 - acc: 0.8563 - val_loss: 0.3351 - val_acc: 0.8958\n",
      "\n",
      "Epoch 00007: saving model to training_2\\cp.ckpt\n",
      "Epoch 8/50\n",
      "15/15 [==============================] - 38s 2s/step - loss: 0.2917 - acc: 0.8774 - val_loss: 0.4329 - val_acc: 0.8083\n",
      "\n",
      "Epoch 00008: saving model to training_2\\cp.ckpt\n",
      "Epoch 9/50\n",
      "15/15 [==============================] - 39s 3s/step - loss: 0.3033 - acc: 0.8674 - val_loss: 0.2921 - val_acc: 0.9000\n",
      "\n",
      "Epoch 00009: saving model to training_2\\cp.ckpt\n",
      "Epoch 10/50\n",
      "15/15 [==============================] - 40s 3s/step - loss: 0.2975 - acc: 0.8813 - val_loss: 0.2839 - val_acc: 0.8958\n",
      "\n",
      "Epoch 00010: saving model to training_2\\cp.ckpt\n",
      "Epoch 11/50\n",
      "15/15 [==============================] - 39s 3s/step - loss: 0.2999 - acc: 0.8751 - val_loss: 0.2835 - val_acc: 0.9000\n",
      "\n",
      "Epoch 00011: saving model to training_2\\cp.ckpt\n",
      "Epoch 12/50\n",
      "15/15 [==============================] - 39s 3s/step - loss: 0.2925 - acc: 0.8829 - val_loss: 0.3011 - val_acc: 0.8875\n",
      "\n",
      "Epoch 00012: saving model to training_2\\cp.ckpt\n",
      "Epoch 13/50\n",
      "15/15 [==============================] - 40s 3s/step - loss: 0.2527 - acc: 0.8985 - val_loss: 0.3322 - val_acc: 0.8792\n",
      "\n",
      "Epoch 00013: saving model to training_2\\cp.ckpt\n",
      "Epoch 14/50\n",
      "15/15 [==============================] - 36s 2s/step - loss: 0.3037 - acc: 0.8808 - val_loss: 0.2773 - val_acc: 0.9000\n",
      "\n",
      "Epoch 00014: saving model to training_2\\cp.ckpt\n",
      "Epoch 15/50\n",
      "15/15 [==============================] - 36s 2s/step - loss: 0.2717 - acc: 0.8858 - val_loss: 0.3669 - val_acc: 0.8875\n",
      "\n",
      "Epoch 00015: saving model to training_2\\cp.ckpt\n",
      "Epoch 16/50\n",
      "15/15 [==============================] - 38s 2s/step - loss: 0.3004 - acc: 0.8643 - val_loss: 0.2930 - val_acc: 0.8917\n",
      "\n",
      "Epoch 00016: saving model to training_2\\cp.ckpt\n",
      "Epoch 17/50\n",
      "15/15 [==============================] - 39s 3s/step - loss: 0.2370 - acc: 0.9105 - val_loss: 0.2468 - val_acc: 0.9083\n",
      "\n",
      "Epoch 00017: saving model to training_2\\cp.ckpt\n",
      "Epoch 18/50\n",
      "15/15 [==============================] - 36s 2s/step - loss: 0.2354 - acc: 0.9066 - val_loss: 0.4371 - val_acc: 0.8333\n",
      "\n",
      "Epoch 00018: saving model to training_2\\cp.ckpt\n",
      "Epoch 19/50\n",
      "15/15 [==============================] - 40s 3s/step - loss: 0.2551 - acc: 0.8987 - val_loss: 0.3042 - val_acc: 0.8792\n",
      "\n",
      "Epoch 00019: saving model to training_2\\cp.ckpt\n",
      "Epoch 20/50\n",
      "15/15 [==============================] - 38s 3s/step - loss: 0.2136 - acc: 0.9075 - val_loss: 0.3184 - val_acc: 0.8750\n",
      "\n",
      "Epoch 00020: saving model to training_2\\cp.ckpt\n",
      "Epoch 21/50\n",
      "15/15 [==============================] - 38s 3s/step - loss: 0.2378 - acc: 0.9113 - val_loss: 0.2548 - val_acc: 0.9125\n",
      "\n",
      "Epoch 00021: saving model to training_2\\cp.ckpt\n",
      "Epoch 22/50\n",
      "15/15 [==============================] - 39s 3s/step - loss: 0.2339 - acc: 0.8931 - val_loss: 0.3165 - val_acc: 0.8792\n",
      "\n",
      "Epoch 00022: saving model to training_2\\cp.ckpt\n",
      "Epoch 23/50\n",
      "15/15 [==============================] - 40s 3s/step - loss: 0.2335 - acc: 0.8998 - val_loss: 0.3016 - val_acc: 0.8958\n",
      "\n",
      "Epoch 00023: saving model to training_2\\cp.ckpt\n",
      "Epoch 24/50\n",
      "15/15 [==============================] - 40s 3s/step - loss: 0.1952 - acc: 0.9218 - val_loss: 0.2458 - val_acc: 0.9083\n",
      "\n",
      "Epoch 00024: saving model to training_2\\cp.ckpt\n",
      "Epoch 25/50\n",
      "15/15 [==============================] - 40s 3s/step - loss: 0.2053 - acc: 0.9275 - val_loss: 0.2819 - val_acc: 0.8917\n",
      "\n",
      "Epoch 00025: saving model to training_2\\cp.ckpt\n",
      "Epoch 26/50\n",
      "15/15 [==============================] - 43s 3s/step - loss: 0.2063 - acc: 0.9225 - val_loss: 0.2655 - val_acc: 0.9000\n",
      "\n",
      "Epoch 00026: saving model to training_2\\cp.ckpt\n",
      "Epoch 27/50\n",
      "15/15 [==============================] - 39s 3s/step - loss: 0.1943 - acc: 0.9042 - val_loss: 0.2446 - val_acc: 0.9042\n",
      "\n",
      "Epoch 00027: saving model to training_2\\cp.ckpt\n",
      "Epoch 28/50\n",
      "15/15 [==============================] - 38s 3s/step - loss: 0.2023 - acc: 0.9193 - val_loss: 0.2278 - val_acc: 0.9250\n",
      "\n",
      "Epoch 00028: saving model to training_2\\cp.ckpt\n",
      "Epoch 29/50\n",
      "15/15 [==============================] - 40s 3s/step - loss: 0.2054 - acc: 0.9150 - val_loss: 0.2941 - val_acc: 0.8875\n",
      "\n",
      "Epoch 00029: saving model to training_2\\cp.ckpt\n",
      "Epoch 30/50\n",
      "15/15 [==============================] - 40s 3s/step - loss: 0.2285 - acc: 0.9176 - val_loss: 0.2539 - val_acc: 0.9208\n",
      "\n",
      "Epoch 00030: saving model to training_2\\cp.ckpt\n",
      "Epoch 31/50\n",
      "15/15 [==============================] - 39s 3s/step - loss: 0.1928 - acc: 0.9261 - val_loss: 0.2321 - val_acc: 0.9167\n",
      "\n",
      "Epoch 00031: saving model to training_2\\cp.ckpt\n",
      "Epoch 32/50\n",
      "15/15 [==============================] - 42s 3s/step - loss: 0.1816 - acc: 0.9330 - val_loss: 0.2315 - val_acc: 0.9125\n",
      "\n",
      "Epoch 00032: saving model to training_2\\cp.ckpt\n",
      "Epoch 33/50\n",
      "15/15 [==============================] - 42s 3s/step - loss: 0.1859 - acc: 0.9313 - val_loss: 0.3132 - val_acc: 0.8875\n",
      "\n",
      "Epoch 00033: saving model to training_2\\cp.ckpt\n",
      "Epoch 34/50\n",
      "15/15 [==============================] - 41s 3s/step - loss: 0.1842 - acc: 0.9209 - val_loss: 0.2451 - val_acc: 0.9167\n",
      "\n",
      "Epoch 00034: saving model to training_2\\cp.ckpt\n",
      "Epoch 35/50\n",
      "15/15 [==============================] - 38s 3s/step - loss: 0.1958 - acc: 0.9190 - val_loss: 0.2368 - val_acc: 0.9208\n",
      "\n",
      "Epoch 00035: saving model to training_2\\cp.ckpt\n",
      "Epoch 36/50\n",
      "15/15 [==============================] - 41s 3s/step - loss: 0.1380 - acc: 0.9481 - val_loss: 0.2085 - val_acc: 0.9167\n",
      "\n",
      "Epoch 00036: saving model to training_2\\cp.ckpt\n",
      "Epoch 37/50\n",
      "15/15 [==============================] - 40s 3s/step - loss: 0.1812 - acc: 0.9222 - val_loss: 0.1943 - val_acc: 0.9208\n",
      "\n",
      "Epoch 00037: saving model to training_2\\cp.ckpt\n",
      "Epoch 38/50\n",
      "15/15 [==============================] - 39s 3s/step - loss: 0.1993 - acc: 0.9279 - val_loss: 0.2530 - val_acc: 0.9042\n",
      "\n",
      "Epoch 00038: saving model to training_2\\cp.ckpt\n",
      "Epoch 39/50\n",
      "15/15 [==============================] - 42s 3s/step - loss: 0.1867 - acc: 0.9310 - val_loss: 0.1744 - val_acc: 0.9292\n",
      "\n",
      "Epoch 00039: saving model to training_2\\cp.ckpt\n",
      "Epoch 40/50\n",
      "15/15 [==============================] - 39s 3s/step - loss: 0.1520 - acc: 0.9490 - val_loss: 0.2658 - val_acc: 0.8958\n",
      "\n",
      "Epoch 00040: saving model to training_2\\cp.ckpt\n",
      "Epoch 41/50\n",
      "15/15 [==============================] - 37s 3s/step - loss: 0.1700 - acc: 0.9334 - val_loss: 0.2246 - val_acc: 0.9208\n",
      "\n",
      "Epoch 00041: saving model to training_2\\cp.ckpt\n",
      "Epoch 42/50\n",
      "15/15 [==============================] - 41s 3s/step - loss: 0.1715 - acc: 0.9227 - val_loss: 0.2600 - val_acc: 0.9083\n",
      "\n",
      "Epoch 00042: saving model to training_2\\cp.ckpt\n",
      "Epoch 43/50\n",
      "15/15 [==============================] - 44s 3s/step - loss: 0.1493 - acc: 0.9461 - val_loss: 0.2820 - val_acc: 0.9042\n",
      "\n",
      "Epoch 00043: saving model to training_2\\cp.ckpt\n",
      "Epoch 44/50\n",
      "15/15 [==============================] - 41s 3s/step - loss: 0.1622 - acc: 0.9344 - val_loss: 0.2192 - val_acc: 0.9250\n",
      "\n",
      "Epoch 00044: saving model to training_2\\cp.ckpt\n",
      "Epoch 45/50\n",
      "15/15 [==============================] - 45s 3s/step - loss: 0.1780 - acc: 0.9361 - val_loss: 0.2477 - val_acc: 0.8958\n",
      "\n",
      "Epoch 00045: saving model to training_2\\cp.ckpt\n",
      "Epoch 46/50\n",
      "15/15 [==============================] - 40s 3s/step - loss: 0.1659 - acc: 0.9278 - val_loss: 0.2052 - val_acc: 0.9250\n"
     ]
    },
    {
     "name": "stdout",
     "output_type": "stream",
     "text": [
      "\n",
      "Epoch 00046: saving model to training_2\\cp.ckpt\n",
      "Epoch 47/50\n",
      "15/15 [==============================] - 45s 3s/step - loss: 0.1476 - acc: 0.9400 - val_loss: 0.2541 - val_acc: 0.9125\n",
      "\n",
      "Epoch 00047: saving model to training_2\\cp.ckpt\n",
      "Epoch 48/50\n",
      "15/15 [==============================] - 41s 3s/step - loss: 0.1707 - acc: 0.9319 - val_loss: 0.2461 - val_acc: 0.9125\n",
      "\n",
      "Epoch 00048: saving model to training_2\\cp.ckpt\n",
      "Epoch 49/50\n",
      "15/15 [==============================] - 44s 3s/step - loss: 0.1787 - acc: 0.9155 - val_loss: 0.2641 - val_acc: 0.9083\n",
      "\n",
      "Epoch 00049: saving model to training_2\\cp.ckpt\n",
      "Epoch 50/50\n",
      "15/15 [==============================] - 45s 3s/step - loss: 0.1556 - acc: 0.9408 - val_loss: 0.2262 - val_acc: 0.9208\n",
      "\n",
      "Epoch 00050: saving model to training_2\\cp.ckpt\n"
     ]
    }
   ],
   "source": [
    "# Train the model with the new callback so that we don't have to train the model repeatedly\n",
    "\n",
    "history = model.fit(train_generator,\n",
    "                    steps_per_epoch = 15,\n",
    "                    epochs=50,\n",
    "                    validation_data=validation_generator,\n",
    "                    validation_steps = 15,\n",
    "                    callbacks=[cp_callback])"
   ]
  },
  {
   "cell_type": "code",
   "execution_count": 23,
   "metadata": {},
   "outputs": [
    {
     "data": {
      "image/png": "[encoded data removed]",
      "text/plain": [
       "<Figure size 432x288 with 1 Axes>"
      ]
     },
     "metadata": {
      "needs_background": "light"
     },
     "output_type": "display_data"
    },
    {
     "data": {
      "text/plain": [
       "<Figure size 432x288 with 0 Axes>"
      ]
     },
     "metadata": {},
     "output_type": "display_data"
    },
    {
     "data": {
      "image/png": "[encoded data removed]",
      "text/plain": [
       "<Figure size 432x288 with 1 Axes>"
      ]
     },
     "metadata": {
      "needs_background": "light"
     },
     "output_type": "display_data"
    },
    {
     "data": {
      "text/plain": [
       "<Figure size 432x288 with 0 Axes>"
      ]
     },
     "metadata": {},
     "output_type": "display_data"
    }
   ],
   "source": [
    "%matplotlib inline\n",
    "import matplotlib.pyplot as plt\n",
    "acc = history.history['acc']\n",
    "val_acc = history.history['val_acc']\n",
    "loss = history.history['loss']\n",
    "val_loss = history.history['val_loss']\n",
    "\n",
    "epochs = range(len(acc))\n",
    "\n",
    "plt.plot(epochs, acc, 'g', label='Training accuracy')\n",
    "plt.plot(epochs, val_acc, 'b', label='Validation accuracy')\n",
    "plt.title('Training and validation accuracy')\n",
    "plt.legend(loc=0)\n",
    "plt.figure()\n",
    "plt.show()\n",
    "\n",
    "plt.plot(epochs, loss, 'r', label='Training loss')\n",
    "plt.plot(epochs, val_loss, 'orange', label='Validation loss')\n",
    "plt.title('Training and validation loss')\n",
    "\n",
    "plt.legend(loc=0)\n",
    "plt.figure()\n",
    "plt.show()"
   ]
  },
  {
   "cell_type": "code",
   "execution_count": 24,
   "metadata": {},
   "outputs": [
    {
     "name": "stdout",
     "output_type": "stream",
     "text": [
      "Model: \"sequential_7\"\n",
      "_________________________________________________________________\n",
      "Layer (type)                 Output Shape              Param #   \n",
      "=================================================================\n",
      "conv2d_22 (Conv2D)           (None, 54, 54, 100)       36400     \n",
      "_________________________________________________________________\n",
      "max_pooling2d_9 (MaxPooling2 (None, 26, 26, 100)       0         \n",
      "_________________________________________________________________\n",
      "conv2d_23 (Conv2D)           (None, 22, 22, 100)       250100    \n",
      "_________________________________________________________________\n",
      "max_pooling2d_10 (MaxPooling (None, 10, 10, 100)       0         \n",
      "_________________________________________________________________\n",
      "conv2d_24 (Conv2D)           (None, 6, 6, 50)          125050    \n",
      "_________________________________________________________________\n",
      "max_pooling2d_11 (MaxPooling (None, 2, 2, 50)          0         \n",
      "_________________________________________________________________\n",
      "flatten_7 (Flatten)          (None, 200)               0         \n",
      "_________________________________________________________________\n",
      "dropout_20 (Dropout)         (None, 200)               0         \n",
      "_________________________________________________________________\n",
      "dense_20 (Dense)             (None, 2048)              411648    \n",
      "_________________________________________________________________\n",
      "dropout_21 (Dropout)         (None, 2048)              0         \n",
      "_________________________________________________________________\n",
      "dense_21 (Dense)             (None, 2)                 4098      \n",
      "=================================================================\n",
      "Total params: 827,296\n",
      "Trainable params: 827,296\n",
      "Non-trainable params: 0\n",
      "_________________________________________________________________\n",
      "21/21 - 8s - loss: 0.2227 - acc: 0.9195\n",
      "Model accuracy for the testing set: 91.95%\n"
     ]
    }
   ],
   "source": [
    "newModel = modelCreation()\n",
    "\n",
    "# Loads the weights\n",
    "\n",
    "newModel.load_weights(checkpoint_path)\n",
    "\n",
    "# Evaluate the saved model\n",
    "\n",
    "loss, acc = newModel.evaluate(test_generator, verbose=2)\n",
    "print(\"Model accuracy for the testing set: {:5.2f}%\".format(100 * acc))"
   ]
  },
  {
   "cell_type": "markdown",
   "metadata": {},
   "source": [
    "## CNN Training - Third Set"
   ]
  },
  {
   "cell_type": "code",
   "execution_count": 25,
   "metadata": {},
   "outputs": [
    {
     "name": "stdout",
     "output_type": "stream",
     "text": [
      "Model: \"sequential_8\"\n",
      "_________________________________________________________________\n",
      "Layer (type)                 Output Shape              Param #   \n",
      "=================================================================\n",
      "conv2d_25 (Conv2D)           (None, 54, 54, 96)        34944     \n",
      "_________________________________________________________________\n",
      "max_pooling2d_12 (MaxPooling (None, 26, 26, 96)        0         \n",
      "_________________________________________________________________\n",
      "conv2d_26 (Conv2D)           (None, 22, 22, 256)       614656    \n",
      "_________________________________________________________________\n",
      "max_pooling2d_13 (MaxPooling (None, 10, 10, 256)       0         \n",
      "_________________________________________________________________\n",
      "conv2d_27 (Conv2D)           (None, 6, 6, 384)         2457984   \n",
      "_________________________________________________________________\n",
      "max_pooling2d_14 (MaxPooling (None, 2, 2, 384)         0         \n",
      "_________________________________________________________________\n",
      "flatten_8 (Flatten)          (None, 1536)              0         \n",
      "_________________________________________________________________\n",
      "dropout_22 (Dropout)         (None, 1536)              0         \n",
      "_________________________________________________________________\n",
      "dense_22 (Dense)             (None, 2048)              3147776   \n",
      "_________________________________________________________________\n",
      "dropout_23 (Dropout)         (None, 2048)              0         \n",
      "_________________________________________________________________\n",
      "dense_23 (Dense)             (None, 1024)              2098176   \n",
      "_________________________________________________________________\n",
      "dropout_24 (Dropout)         (None, 1024)              0         \n",
      "_________________________________________________________________\n",
      "dense_24 (Dense)             (None, 2)                 2050      \n",
      "=================================================================\n",
      "Total params: 8,355,586\n",
      "Trainable params: 8,355,586\n",
      "Non-trainable params: 0\n",
      "_________________________________________________________________\n"
     ]
    }
   ],
   "source": [
    "from tensorflow.keras.optimizers import RMSprop, Adam\n",
    "from tensorflow.keras.models import Sequential\n",
    "from tensorflow.keras.layers import Conv2D, MaxPooling2D, Flatten, Dropout, Dense\n",
    "\n",
    "def modelCreation():\n",
    "    model = Sequential([\n",
    "              Conv2D(96, (11,11), strides=(4,4), activation='relu', input_shape=(224, 224, 3)),\n",
    "              MaxPooling2D(pool_size = (3,3), strides=(2,2)),\n",
    "              Conv2D(256, (5,5), activation='relu'),\n",
    "              MaxPooling2D(pool_size = (3,3), strides=(2,2)),\n",
    "              Conv2D(384, (5,5), activation='relu'),\n",
    "              MaxPooling2D(pool_size = (3,3), strides=(2,2)),\n",
    "              Flatten(), #Flattens the input from the prev layer\n",
    "              Dropout(0.2),\n",
    "              Dense(2048, activation='relu'),\n",
    "              Dropout(0.25),\n",
    "              Dense(1024, activation='relu'),\n",
    "              Dropout(0.2),\n",
    "              Dense(2, activation='softmax')\n",
    "    ])\n",
    "    model.compile(loss='categorical_crossentropy',\n",
    "                  optimizer=Adam(lr=0.0001),\n",
    "                  metrics=['acc'])\n",
    "    model.summary()\n",
    "    return(model)\n",
    "\n",
    "model = modelCreation()"
   ]
  },
  {
   "cell_type": "code",
   "execution_count": 26,
   "metadata": {},
   "outputs": [],
   "source": [
    "checkpoint_path = \"training_3/cp.ckpt\"\n",
    "checkpoint_dir = os.path.dirname(checkpoint_path)\n",
    "\n",
    "# Create a callback that saves the model's weights\n",
    "cp_callback = tf.keras.callbacks.ModelCheckpoint(filepath=checkpoint_path,\n",
    "                                                 save_weights_only=True,\n",
    "                                                 verbose=1)"
   ]
  },
  {
   "cell_type": "code",
   "execution_count": 27,
   "metadata": {},
   "outputs": [
    {
     "name": "stdout",
     "output_type": "stream",
     "text": [
      "Epoch 1/50\n",
      "WARNING:tensorflow:Unresolved object in checkpoint: (root).optimizer.iter\n",
      "WARNING:tensorflow:Unresolved object in checkpoint: (root).optimizer.beta_1\n",
      "WARNING:tensorflow:Unresolved object in checkpoint: (root).optimizer.beta_2\n",
      "WARNING:tensorflow:Unresolved object in checkpoint: (root).optimizer.decay\n",
      "WARNING:tensorflow:Unresolved object in checkpoint: (root).optimizer.learning_rate\n",
      "WARNING:tensorflow:A checkpoint was restored (e.g. tf.train.Checkpoint.restore or tf.keras.Model.load_weights) but not all checkpointed values were used. See above for specific issues. Use expect_partial() on the load status object, e.g. tf.train.Checkpoint.restore(...).expect_partial(), to silence these warnings, or use assert_consumed() to make the check explicit. See https://www.tensorflow.org/guide/checkpoint#loading_mechanics for details.\n",
      "WARNING:tensorflow:Unresolved object in checkpoint: (root).optimizer.iter\n",
      "WARNING:tensorflow:Unresolved object in checkpoint: (root).optimizer.beta_1\n",
      "WARNING:tensorflow:Unresolved object in checkpoint: (root).optimizer.beta_2\n",
      "WARNING:tensorflow:Unresolved object in checkpoint: (root).optimizer.decay\n",
      "WARNING:tensorflow:Unresolved object in checkpoint: (root).optimizer.learning_rate\n",
      "WARNING:tensorflow:A checkpoint was restored (e.g. tf.train.Checkpoint.restore or tf.keras.Model.load_weights) but not all checkpointed values were used. See above for specific issues. Use expect_partial() on the load status object, e.g. tf.train.Checkpoint.restore(...).expect_partial(), to silence these warnings, or use assert_consumed() to make the check explicit. See https://www.tensorflow.org/guide/checkpoint#loading_mechanics for details.\n",
      "15/15 [==============================] - 52s 3s/step - loss: 0.6086 - acc: 0.6568 - val_loss: 0.4718 - val_acc: 0.7917\n",
      "\n",
      "Epoch 00001: saving model to training_3\\cp.ckpt\n",
      "Epoch 2/50\n",
      "15/15 [==============================] - 48s 3s/step - loss: 0.5181 - acc: 0.8049 - val_loss: 0.4389 - val_acc: 0.7833\n",
      "\n",
      "Epoch 00002: saving model to training_3\\cp.ckpt\n",
      "Epoch 3/50\n",
      "15/15 [==============================] - 47s 3s/step - loss: 0.4060 - acc: 0.8309 - val_loss: 0.3769 - val_acc: 0.8208\n",
      "\n",
      "Epoch 00003: saving model to training_3\\cp.ckpt\n",
      "Epoch 4/50\n",
      "15/15 [==============================] - 47s 3s/step - loss: 0.3643 - acc: 0.8285 - val_loss: 0.3280 - val_acc: 0.8792\n",
      "\n",
      "Epoch 00004: saving model to training_3\\cp.ckpt\n",
      "Epoch 5/50\n",
      "15/15 [==============================] - 48s 3s/step - loss: 0.3477 - acc: 0.8416 - val_loss: 0.3232 - val_acc: 0.8708\n",
      "\n",
      "Epoch 00005: saving model to training_3\\cp.ckpt\n",
      "Epoch 6/50\n",
      "15/15 [==============================] - 47s 3s/step - loss: 0.3285 - acc: 0.8743 - val_loss: 0.3225 - val_acc: 0.8875\n",
      "\n",
      "Epoch 00006: saving model to training_3\\cp.ckpt\n",
      "Epoch 7/50\n",
      "15/15 [==============================] - 48s 3s/step - loss: 0.3032 - acc: 0.8735 - val_loss: 0.4313 - val_acc: 0.8250\n",
      "\n",
      "Epoch 00007: saving model to training_3\\cp.ckpt\n",
      "Epoch 8/50\n",
      "15/15 [==============================] - 47s 3s/step - loss: 0.3387 - acc: 0.8598 - val_loss: 0.2996 - val_acc: 0.8875\n",
      "\n",
      "Epoch 00008: saving model to training_3\\cp.ckpt\n",
      "Epoch 9/50\n",
      "15/15 [==============================] - 51s 3s/step - loss: 0.2824 - acc: 0.8906 - val_loss: 0.3006 - val_acc: 0.8958\n",
      "\n",
      "Epoch 00009: saving model to training_3\\cp.ckpt\n",
      "Epoch 10/50\n",
      "15/15 [==============================] - 54s 4s/step - loss: 0.2804 - acc: 0.8833 - val_loss: 0.2678 - val_acc: 0.8958\n",
      "\n",
      "Epoch 00010: saving model to training_3\\cp.ckpt\n",
      "Epoch 11/50\n",
      "15/15 [==============================] - 56s 4s/step - loss: 0.2539 - acc: 0.9132 - val_loss: 0.2818 - val_acc: 0.8958\n",
      "\n",
      "Epoch 00011: saving model to training_3\\cp.ckpt\n",
      "Epoch 12/50\n",
      "15/15 [==============================] - 52s 3s/step - loss: 0.2673 - acc: 0.8997 - val_loss: 0.2537 - val_acc: 0.9125\n",
      "\n",
      "Epoch 00012: saving model to training_3\\cp.ckpt\n",
      "Epoch 13/50\n",
      "15/15 [==============================] - 49s 3s/step - loss: 0.2074 - acc: 0.9215 - val_loss: 0.2774 - val_acc: 0.8917\n",
      "\n",
      "Epoch 00013: saving model to training_3\\cp.ckpt\n",
      "Epoch 14/50\n",
      "15/15 [==============================] - 50s 3s/step - loss: 0.2694 - acc: 0.8982 - val_loss: 0.2917 - val_acc: 0.8958\n",
      "\n",
      "Epoch 00014: saving model to training_3\\cp.ckpt\n",
      "Epoch 15/50\n",
      "15/15 [==============================] - 52s 3s/step - loss: 0.2425 - acc: 0.9020 - val_loss: 0.2783 - val_acc: 0.9125\n",
      "\n",
      "Epoch 00015: saving model to training_3\\cp.ckpt\n",
      "Epoch 16/50\n",
      "15/15 [==============================] - 48s 3s/step - loss: 0.2072 - acc: 0.9284 - val_loss: 0.2768 - val_acc: 0.8750\n",
      "\n",
      "Epoch 00016: saving model to training_3\\cp.ckpt\n",
      "Epoch 17/50\n",
      "15/15 [==============================] - 47s 3s/step - loss: 0.2344 - acc: 0.9117 - val_loss: 0.3996 - val_acc: 0.8625\n",
      "\n",
      "Epoch 00017: saving model to training_3\\cp.ckpt\n",
      "Epoch 18/50\n",
      "15/15 [==============================] - 47s 3s/step - loss: 0.2309 - acc: 0.9006 - val_loss: 0.2970 - val_acc: 0.9000\n",
      "\n",
      "Epoch 00018: saving model to training_3\\cp.ckpt\n",
      "Epoch 19/50\n",
      "15/15 [==============================] - 48s 3s/step - loss: 0.2234 - acc: 0.9145 - val_loss: 0.2950 - val_acc: 0.8958\n",
      "\n",
      "Epoch 00019: saving model to training_3\\cp.ckpt\n",
      "Epoch 20/50\n",
      "15/15 [==============================] - 47s 3s/step - loss: 0.2042 - acc: 0.9165 - val_loss: 0.2460 - val_acc: 0.9083\n",
      "\n",
      "Epoch 00020: saving model to training_3\\cp.ckpt\n",
      "Epoch 21/50\n",
      "15/15 [==============================] - 49s 3s/step - loss: 0.2206 - acc: 0.9169 - val_loss: 0.2708 - val_acc: 0.8958\n",
      "\n",
      "Epoch 00021: saving model to training_3\\cp.ckpt\n",
      "Epoch 22/50\n",
      "15/15 [==============================] - 49s 3s/step - loss: 0.1944 - acc: 0.9218 - val_loss: 0.2830 - val_acc: 0.8875\n",
      "\n",
      "Epoch 00022: saving model to training_3\\cp.ckpt\n",
      "Epoch 23/50\n",
      "15/15 [==============================] - 46s 3s/step - loss: 0.2054 - acc: 0.9292 - val_loss: 0.2569 - val_acc: 0.9042\n",
      "\n",
      "Epoch 00023: saving model to training_3\\cp.ckpt\n",
      "Epoch 24/50\n",
      "15/15 [==============================] - 45s 3s/step - loss: 0.1990 - acc: 0.9166 - val_loss: 0.2721 - val_acc: 0.9083\n",
      "\n",
      "Epoch 00024: saving model to training_3\\cp.ckpt\n",
      "Epoch 25/50\n",
      "15/15 [==============================] - 43s 3s/step - loss: 0.1957 - acc: 0.9241 - val_loss: 0.1923 - val_acc: 0.9375\n",
      "\n",
      "Epoch 00025: saving model to training_3\\cp.ckpt\n",
      "Epoch 26/50\n",
      "15/15 [==============================] - 44s 3s/step - loss: 0.2111 - acc: 0.9182 - val_loss: 0.2405 - val_acc: 0.9042\n",
      "\n",
      "Epoch 00026: saving model to training_3\\cp.ckpt\n",
      "Epoch 27/50\n",
      "15/15 [==============================] - 45s 3s/step - loss: 0.1790 - acc: 0.9198 - val_loss: 0.2399 - val_acc: 0.9042\n",
      "\n",
      "Epoch 00027: saving model to training_3\\cp.ckpt\n",
      "Epoch 28/50\n",
      "15/15 [==============================] - 48s 3s/step - loss: 0.1598 - acc: 0.9435 - val_loss: 0.3260 - val_acc: 0.8875\n",
      "\n",
      "Epoch 00028: saving model to training_3\\cp.ckpt\n",
      "Epoch 29/50\n",
      "15/15 [==============================] - 50s 3s/step - loss: 0.2112 - acc: 0.9164 - val_loss: 0.2056 - val_acc: 0.9167\n",
      "\n",
      "Epoch 00029: saving model to training_3\\cp.ckpt\n",
      "Epoch 30/50\n",
      "15/15 [==============================] - 49s 3s/step - loss: 0.1939 - acc: 0.9242 - val_loss: 0.3218 - val_acc: 0.8667\n",
      "\n",
      "Epoch 00030: saving model to training_3\\cp.ckpt\n",
      "Epoch 31/50\n",
      "15/15 [==============================] - 47s 3s/step - loss: 0.2092 - acc: 0.9097 - val_loss: 0.2277 - val_acc: 0.9208\n",
      "\n",
      "Epoch 00031: saving model to training_3\\cp.ckpt\n",
      "Epoch 32/50\n",
      "15/15 [==============================] - 47s 3s/step - loss: 0.1682 - acc: 0.9441 - val_loss: 0.2431 - val_acc: 0.9083\n",
      "\n",
      "Epoch 00032: saving model to training_3\\cp.ckpt\n",
      "Epoch 33/50\n",
      "15/15 [==============================] - 47s 3s/step - loss: 0.1699 - acc: 0.9316 - val_loss: 0.2895 - val_acc: 0.8708\n",
      "\n",
      "Epoch 00033: saving model to training_3\\cp.ckpt\n",
      "Epoch 34/50\n",
      "15/15 [==============================] - 47s 3s/step - loss: 0.1757 - acc: 0.9376 - val_loss: 0.2557 - val_acc: 0.9042\n",
      "\n",
      "Epoch 00034: saving model to training_3\\cp.ckpt\n",
      "Epoch 35/50\n",
      "15/15 [==============================] - 46s 3s/step - loss: 0.1533 - acc: 0.9348 - val_loss: 0.2267 - val_acc: 0.9250\n",
      "\n",
      "Epoch 00035: saving model to training_3\\cp.ckpt\n",
      "Epoch 36/50\n",
      "15/15 [==============================] - 46s 3s/step - loss: 0.1383 - acc: 0.9443 - val_loss: 0.2099 - val_acc: 0.9292\n",
      "\n",
      "Epoch 00036: saving model to training_3\\cp.ckpt\n",
      "Epoch 37/50\n",
      "15/15 [==============================] - 47s 3s/step - loss: 0.1551 - acc: 0.9433 - val_loss: 0.3398 - val_acc: 0.8917\n",
      "\n",
      "Epoch 00037: saving model to training_3\\cp.ckpt\n",
      "Epoch 38/50\n",
      "15/15 [==============================] - 46s 3s/step - loss: 0.1399 - acc: 0.9478 - val_loss: 0.2230 - val_acc: 0.8958\n",
      "\n",
      "Epoch 00038: saving model to training_3\\cp.ckpt\n",
      "Epoch 39/50\n",
      "15/15 [==============================] - 46s 3s/step - loss: 0.1507 - acc: 0.9518 - val_loss: 0.2386 - val_acc: 0.9250\n",
      "\n",
      "Epoch 00039: saving model to training_3\\cp.ckpt\n",
      "Epoch 40/50\n",
      "15/15 [==============================] - 49s 3s/step - loss: 0.1157 - acc: 0.9473 - val_loss: 0.2154 - val_acc: 0.9250\n",
      "\n",
      "Epoch 00040: saving model to training_3\\cp.ckpt\n",
      "Epoch 41/50\n",
      "15/15 [==============================] - 47s 3s/step - loss: 0.1170 - acc: 0.9563 - val_loss: 0.4116 - val_acc: 0.8708\n",
      "\n",
      "Epoch 00041: saving model to training_3\\cp.ckpt\n",
      "Epoch 42/50\n",
      "15/15 [==============================] - 49s 3s/step - loss: 0.1711 - acc: 0.9255 - val_loss: 0.2319 - val_acc: 0.9292\n",
      "\n",
      "Epoch 00042: saving model to training_3\\cp.ckpt\n",
      "Epoch 43/50\n",
      "15/15 [==============================] - 48s 3s/step - loss: 0.1269 - acc: 0.9548 - val_loss: 0.1887 - val_acc: 0.9292\n",
      "\n",
      "Epoch 00043: saving model to training_3\\cp.ckpt\n",
      "Epoch 44/50\n",
      "15/15 [==============================] - 49s 3s/step - loss: 0.1371 - acc: 0.9455 - val_loss: 0.2481 - val_acc: 0.9125\n",
      "\n",
      "Epoch 00044: saving model to training_3\\cp.ckpt\n",
      "Epoch 45/50\n",
      "15/15 [==============================] - 47s 3s/step - loss: 0.1207 - acc: 0.9578 - val_loss: 0.1821 - val_acc: 0.9375\n",
      "\n",
      "Epoch 00045: saving model to training_3\\cp.ckpt\n",
      "Epoch 46/50\n",
      "15/15 [==============================] - 46s 3s/step - loss: 0.1863 - acc: 0.9128 - val_loss: 0.2084 - val_acc: 0.9167\n",
      "\n",
      "Epoch 00046: saving model to training_3\\cp.ckpt\n",
      "Epoch 47/50\n",
      "15/15 [==============================] - 48s 3s/step - loss: 0.1361 - acc: 0.9525 - val_loss: 0.2225 - val_acc: 0.9292\n",
      "\n",
      "Epoch 00047: saving model to training_3\\cp.ckpt\n",
      "Epoch 48/50\n",
      "15/15 [==============================] - 48s 3s/step - loss: 0.1186 - acc: 0.9528 - val_loss: 0.2241 - val_acc: 0.9167\n",
      "\n",
      "Epoch 00048: saving model to training_3\\cp.ckpt\n",
      "Epoch 49/50\n",
      "15/15 [==============================] - 49s 3s/step - loss: 0.1475 - acc: 0.9477 - val_loss: 0.2706 - val_acc: 0.9042\n",
      "\n",
      "Epoch 00049: saving model to training_3\\cp.ckpt\n",
      "Epoch 50/50\n",
      "15/15 [==============================] - 49s 3s/step - loss: 0.1638 - acc: 0.9241 - val_loss: 0.2088 - val_acc: 0.9167\n",
      "\n",
      "Epoch 00050: saving model to training_3\\cp.ckpt\n"
     ]
    }
   ],
   "source": [
    "# Train the model with the new callback\n",
    "history = model.fit(train_generator,\n",
    "                    steps_per_epoch = 15,\n",
    "                    epochs=50,\n",
    "                    validation_data=validation_generator,\n",
    "                    validation_steps = 15,\n",
    "                    callbacks=[cp_callback])  # Pass callback to training"
   ]
  },
  {
   "cell_type": "code",
   "execution_count": 28,
   "metadata": {},
   "outputs": [
    {
     "data": {
      "image/png": "[encoded data removed]",
      "text/plain": [
       "<Figure size 432x288 with 1 Axes>"
      ]
     },
     "metadata": {
      "needs_background": "light"
     },
     "output_type": "display_data"
    },
    {
     "data": {
      "text/plain": [
       "<Figure size 432x288 with 0 Axes>"
      ]
     },
     "metadata": {},
     "output_type": "display_data"
    },
    {
     "data": {
      "image/png": "[encoded data removed]",
      "text/plain": [
       "<Figure size 432x288 with 1 Axes>"
      ]
     },
     "metadata": {
      "needs_background": "light"
     },
     "output_type": "display_data"
    },
    {
     "data": {
      "text/plain": [
       "<Figure size 432x288 with 0 Axes>"
      ]
     },
     "metadata": {},
     "output_type": "display_data"
    }
   ],
   "source": [
    "%matplotlib inline\n",
    "import matplotlib.pyplot as plt\n",
    "acc = history.history['acc']\n",
    "val_acc = history.history['val_acc']\n",
    "loss = history.history['loss']\n",
    "val_loss = history.history['val_loss']\n",
    "\n",
    "epochs = range(len(acc))\n",
    "\n",
    "plt.plot(epochs, acc, 'g', label='Training accuracy')\n",
    "plt.plot(epochs, val_acc, 'b', label='Validation accuracy')\n",
    "plt.title('Training and validation accuracy')\n",
    "plt.legend(loc=0)\n",
    "plt.figure()\n",
    "plt.show()\n",
    "\n",
    "plt.plot(epochs, loss, 'r', label='Training loss')\n",
    "plt.plot(epochs, val_loss, 'orange', label='Validation loss')\n",
    "plt.title('Training and validation loss')\n",
    "\n",
    "plt.legend(loc=0)\n",
    "plt.figure()\n",
    "plt.show()"
   ]
  },
  {
   "cell_type": "code",
   "execution_count": 29,
   "metadata": {},
   "outputs": [
    {
     "name": "stdout",
     "output_type": "stream",
     "text": [
      "Model: \"sequential_9\"\n",
      "_________________________________________________________________\n",
      "Layer (type)                 Output Shape              Param #   \n",
      "=================================================================\n",
      "conv2d_28 (Conv2D)           (None, 54, 54, 96)        34944     \n",
      "_________________________________________________________________\n",
      "max_pooling2d_15 (MaxPooling (None, 26, 26, 96)        0         \n",
      "_________________________________________________________________\n",
      "conv2d_29 (Conv2D)           (None, 22, 22, 256)       614656    \n",
      "_________________________________________________________________\n",
      "max_pooling2d_16 (MaxPooling (None, 10, 10, 256)       0         \n",
      "_________________________________________________________________\n",
      "conv2d_30 (Conv2D)           (None, 6, 6, 384)         2457984   \n",
      "_________________________________________________________________\n",
      "max_pooling2d_17 (MaxPooling (None, 2, 2, 384)         0         \n",
      "_________________________________________________________________\n",
      "flatten_9 (Flatten)          (None, 1536)              0         \n",
      "_________________________________________________________________\n",
      "dropout_25 (Dropout)         (None, 1536)              0         \n",
      "_________________________________________________________________\n",
      "dense_25 (Dense)             (None, 2048)              3147776   \n",
      "_________________________________________________________________\n",
      "dropout_26 (Dropout)         (None, 2048)              0         \n",
      "_________________________________________________________________\n",
      "dense_26 (Dense)             (None, 1024)              2098176   \n",
      "_________________________________________________________________\n",
      "dropout_27 (Dropout)         (None, 1024)              0         \n",
      "_________________________________________________________________\n",
      "dense_27 (Dense)             (None, 2)                 2050      \n",
      "=================================================================\n",
      "Total params: 8,355,586\n",
      "Trainable params: 8,355,586\n",
      "Non-trainable params: 0\n",
      "_________________________________________________________________\n",
      "21/21 - 11s - loss: 0.2156 - acc: 0.9288\n",
      "Model accuracy for the testing set: 92.88%\n"
     ]
    }
   ],
   "source": [
    "newModel = modelCreation()\n",
    "\n",
    "# Loads the weights\n",
    "\n",
    "newModel.load_weights(checkpoint_path)\n",
    "\n",
    "# Evaluate the saved model\n",
    "\n",
    "loss, acc = newModel.evaluate(test_generator, verbose=2)\n",
    "print(\"Model accuracy for the testing set: {:5.2f}%\".format(100 * acc))"
   ]
  },
  {
   "cell_type": "code",
   "execution_count": 30,
   "metadata": {},
   "outputs": [
    {
     "data": {
      "text/plain": [
       "['checkpoint', 'cp.ckpt.data-00000-of-00001', 'cp.ckpt.index']"
      ]
     },
     "execution_count": 30,
     "metadata": {},
     "output_type": "execute_result"
    }
   ],
   "source": [
    "os.listdir(checkpoint_dir)"
   ]
  },
  {
   "cell_type": "code",
   "execution_count": 31,
   "metadata": {},
   "outputs": [
    {
     "name": "stdout",
     "output_type": "stream",
     "text": [
      "Model: \"sequential_10\"\n",
      "_________________________________________________________________\n",
      "Layer (type)                 Output Shape              Param #   \n",
      "=================================================================\n",
      "conv2d_31 (Conv2D)           (None, 54, 54, 96)        34944     \n",
      "_________________________________________________________________\n",
      "max_pooling2d_18 (MaxPooling (None, 26, 26, 96)        0         \n",
      "_________________________________________________________________\n",
      "conv2d_32 (Conv2D)           (None, 22, 22, 256)       614656    \n",
      "_________________________________________________________________\n",
      "max_pooling2d_19 (MaxPooling (None, 10, 10, 256)       0         \n",
      "_________________________________________________________________\n",
      "conv2d_33 (Conv2D)           (None, 6, 6, 384)         2457984   \n",
      "_________________________________________________________________\n",
      "max_pooling2d_20 (MaxPooling (None, 2, 2, 384)         0         \n",
      "_________________________________________________________________\n",
      "flatten_10 (Flatten)         (None, 1536)              0         \n",
      "_________________________________________________________________\n",
      "dropout_28 (Dropout)         (None, 1536)              0         \n",
      "_________________________________________________________________\n",
      "dense_28 (Dense)             (None, 2048)              3147776   \n",
      "_________________________________________________________________\n",
      "dropout_29 (Dropout)         (None, 2048)              0         \n",
      "_________________________________________________________________\n",
      "dense_29 (Dense)             (None, 1024)              2098176   \n",
      "_________________________________________________________________\n",
      "dropout_30 (Dropout)         (None, 1024)              0         \n",
      "_________________________________________________________________\n",
      "dense_30 (Dense)             (None, 2)                 2050      \n",
      "=================================================================\n",
      "Total params: 8,355,586\n",
      "Trainable params: 8,355,586\n",
      "Non-trainable params: 0\n",
      "_________________________________________________________________\n",
      "21/21 - 12s - loss: 0.2156 - acc: 0.9288\n",
      "Model accuracy for the testing set: 92.88%\n"
     ]
    }
   ],
   "source": [
    "newModel = modelCreation()\n",
    "\n",
    "# Loads the weights\n",
    "\n",
    "newModel.load_weights(checkpoint_path)\n",
    "\n",
    "# Evaluate the saved model\n",
    "\n",
    "loss, acc = newModel.evaluate(test_generator, verbose=2)\n",
    "print(\"Model accuracy for the testing set: {:5.2f}%\".format(100 * acc))"
   ]
  },
  {
   "cell_type": "markdown",
   "metadata": {},
   "source": [
    "## Inception v3 Model"
   ]
  },
  {
   "cell_type": "markdown",
   "metadata": {},
   "source": [
    "First set"
   ]
  },
  {
   "cell_type": "code",
   "execution_count": 37,
   "metadata": {},
   "outputs": [],
   "source": [
    "from tensorflow.keras.applications.inception_v3 import InceptionV3\n",
    "from tensorflow.keras.preprocessing import image\n",
    "from tensorflow.keras.models import Model\n",
    "from tensorflow.keras.layers import Dense, GlobalAveragePooling2D, Input, Dropout\n",
    "\n",
    "input_tensor = Input(shape=(224, 224, 3))\n",
    "\n",
    "base_model = InceptionV3(input_tensor=input_tensor, weights='imagenet', include_top=False)\n",
    "\n",
    "# add a global spatial average pooling layer\n",
    "x = base_model.output\n",
    "x = GlobalAveragePooling2D()(x)\n",
    "x = Dense(256, activation='relu')(x)\n",
    "x = Dropout(0.1)(x)\n",
    "x = Dense(256, activation='relu')(x)\n",
    "x = Dropout(0.1)(x)\n",
    "x = Dense(256, activation='relu')(x)\n",
    "x = Dropout(0.1)(x)\n",
    "predictions = Dense(2, activation='softmax')(x)\n",
    "\n",
    "model1 = Model(inputs=base_model.input, outputs=predictions)\n",
    "\n",
    "for layer in base_model.layers:\n",
    "    layer.trainable = False\n",
    "\n",
    "model1.compile(optimizer='rmsprop', loss='categorical_crossentropy', metrics=['acc'])"
   ]
  },
  {
   "cell_type": "code",
   "execution_count": 38,
   "metadata": {},
   "outputs": [],
   "source": [
    "checkpoint_path = \"training_incep1/cp.ckpt\"\n",
    "checkpoint_dir = os.path.dirname(checkpoint_path)"
   ]
  },
  {
   "cell_type": "code",
   "execution_count": 39,
   "metadata": {},
   "outputs": [
    {
     "name": "stdout",
     "output_type": "stream",
     "text": [
      "Epoch 1/20\n",
      "14/14 [==============================] - 60s 4s/step - loss: 1.7910 - acc: 0.5030 - val_loss: 0.6931 - val_acc: 0.5982\n",
      "\n",
      "Epoch 00001: saving model to training_incep1\\cp.ckpt\n",
      "Epoch 2/20\n",
      "14/14 [==============================] - 56s 4s/step - loss: 0.3990 - acc: 0.8048 - val_loss: 0.2490 - val_acc: 0.9286\n",
      "\n",
      "Epoch 00002: saving model to training_incep1\\cp.ckpt\n",
      "Epoch 3/20\n",
      "14/14 [==============================] - 54s 4s/step - loss: 0.2466 - acc: 0.8976 - val_loss: 0.2611 - val_acc: 0.9241\n",
      "\n",
      "Epoch 00003: saving model to training_incep1\\cp.ckpt\n",
      "Epoch 4/20\n",
      "14/14 [==============================] - 53s 4s/step - loss: 0.1741 - acc: 0.9293 - val_loss: 0.2029 - val_acc: 0.9375\n",
      "\n",
      "Epoch 00004: saving model to training_incep1\\cp.ckpt\n",
      "Epoch 5/20\n",
      "14/14 [==============================] - 53s 4s/step - loss: 0.2315 - acc: 0.9051 - val_loss: 0.4071 - val_acc: 0.8527\n",
      "\n",
      "Epoch 00005: saving model to training_incep1\\cp.ckpt\n",
      "Epoch 6/20\n",
      "14/14 [==============================] - 53s 4s/step - loss: 0.1877 - acc: 0.9419 - val_loss: 0.2517 - val_acc: 0.9241\n",
      "\n",
      "Epoch 00006: saving model to training_incep1\\cp.ckpt\n",
      "Epoch 7/20\n",
      "14/14 [==============================] - 53s 4s/step - loss: 0.1718 - acc: 0.9468 - val_loss: 0.1882 - val_acc: 0.9420\n",
      "\n",
      "Epoch 00007: saving model to training_incep1\\cp.ckpt\n",
      "Epoch 8/20\n",
      "14/14 [==============================] - 52s 4s/step - loss: 0.1605 - acc: 0.9360 - val_loss: 0.2255 - val_acc: 0.9375\n",
      "\n",
      "Epoch 00008: saving model to training_incep1\\cp.ckpt\n",
      "Epoch 9/20\n",
      "14/14 [==============================] - 53s 4s/step - loss: 0.1372 - acc: 0.9478 - val_loss: 0.2085 - val_acc: 0.9464\n",
      "\n",
      "Epoch 00009: saving model to training_incep1\\cp.ckpt\n",
      "Epoch 10/20\n",
      "14/14 [==============================] - 59s 4s/step - loss: 0.1535 - acc: 0.9505 - val_loss: 0.2657 - val_acc: 0.9107\n",
      "\n",
      "Epoch 00010: saving model to training_incep1\\cp.ckpt\n",
      "Epoch 11/20\n",
      "14/14 [==============================] - 58s 4s/step - loss: 0.1359 - acc: 0.9533 - val_loss: 0.1971 - val_acc: 0.9554\n",
      "\n",
      "Epoch 00011: saving model to training_incep1\\cp.ckpt\n",
      "Epoch 12/20\n",
      "14/14 [==============================] - 56s 4s/step - loss: 0.1475 - acc: 0.9528 - val_loss: 0.2713 - val_acc: 0.8929\n",
      "\n",
      "Epoch 00012: saving model to training_incep1\\cp.ckpt\n",
      "Epoch 13/20\n",
      "14/14 [==============================] - 54s 4s/step - loss: 0.1189 - acc: 0.9574 - val_loss: 0.1981 - val_acc: 0.9509\n",
      "\n",
      "\n",
      " Reached The Destination!\n",
      "\n",
      "Epoch 00013: saving model to training_incep1\\cp.ckpt\n"
     ]
    }
   ],
   "source": [
    "class myCallback(tf.keras.callbacks.Callback):\n",
    "  def on_epoch_end(self, epoch, logs={}):\n",
    "    if(logs.get('val_loss')<=0.2099 and logs.get('loss')<=0.1500):\n",
    "      print('\\n\\n Reached The Destination!')\n",
    "      self.model.stop_training = True\n",
    "\n",
    "cp_callbacks = tf.keras.callbacks.ModelCheckpoint(filepath=checkpoint_path,\n",
    "                                                 save_weights_only=True,\n",
    "                                                 verbose=1)\n",
    "callbacks = myCallback()\n",
    "\n",
    "history2 = model1.fit(\n",
    "    train_generator,\n",
    "    steps_per_epoch = 14,\n",
    "    epochs = 20,\n",
    "    validation_data = validation_generator,\n",
    "    validation_steps = 14,\n",
    "    callbacks=[callbacks, cp_callbacks]\n",
    ")"
   ]
  },
  {
   "cell_type": "code",
   "execution_count": 41,
   "metadata": {},
   "outputs": [
    {
     "name": "stdout",
     "output_type": "stream",
     "text": [
      "21/21 - 13s - loss: 0.0737 - acc: 0.9721\n",
      "Model accuracy for the testing set: 97.21%\n"
     ]
    }
   ],
   "source": [
    "loss, acc = model1.evaluate(test_generator, verbose=2)\n",
    "print(\"Model accuracy for the testing set: {:5.2f}%\".format(100 * acc))"
   ]
  },
  {
   "cell_type": "code",
   "execution_count": 42,
   "metadata": {},
   "outputs": [
    {
     "data": {
      "image/png": "[encoded data removed]",
      "text/plain": [
       "<Figure size 432x288 with 1 Axes>"
      ]
     },
     "metadata": {
      "needs_background": "light"
     },
     "output_type": "display_data"
    },
    {
     "data": {
      "text/plain": [
       "<Figure size 432x288 with 0 Axes>"
      ]
     },
     "metadata": {},
     "output_type": "display_data"
    },
    {
     "data": {
      "image/png": "[encoded data removed]",
      "text/plain": [
       "<Figure size 432x288 with 1 Axes>"
      ]
     },
     "metadata": {
      "needs_background": "light"
     },
     "output_type": "display_data"
    },
    {
     "data": {
      "text/plain": [
       "<Figure size 432x288 with 0 Axes>"
      ]
     },
     "metadata": {},
     "output_type": "display_data"
    }
   ],
   "source": [
    "%matplotlib inline\n",
    "import matplotlib.pyplot as plt\n",
    "acc = history2.history['acc']\n",
    "val_acc = history2.history['val_acc']\n",
    "loss = history2.history['loss']\n",
    "val_loss = history2.history['val_loss']\n",
    "\n",
    "epochs = range(len(acc))\n",
    "\n",
    "plt.plot(epochs, acc, 'g', label='Training accuracy')\n",
    "plt.plot(epochs, val_acc, 'b', label='Validation accuracy')\n",
    "plt.title('Training and validation accuracy')\n",
    "\n",
    "plt.legend(loc=0)\n",
    "plt.figure()\n",
    "plt.show()\n",
    "\n",
    "plt.plot(epochs, loss, 'r', label='Training loss')\n",
    "plt.plot(epochs, val_loss, 'orange', label='Validation loss')\n",
    "plt.title('Training and validation loss')\n",
    "\n",
    "plt.legend(loc=0)\n",
    "plt.figure()\n",
    "plt.show()"
   ]
  },
  {
   "cell_type": "markdown",
   "metadata": {},
   "source": [
    "Second set"
   ]
  },
  {
   "cell_type": "code",
   "execution_count": 43,
   "metadata": {},
   "outputs": [],
   "source": [
    "from tensorflow.keras.applications.inception_v3 import InceptionV3\n",
    "from tensorflow.keras.preprocessing import image\n",
    "from tensorflow.keras.models import Model\n",
    "from tensorflow.keras.layers import Dense, GlobalAveragePooling2D, Input, Dropout\n",
    "\n",
    "input_tensor = Input(shape=(224, 224, 3))\n",
    "\n",
    "base_model = InceptionV3(input_tensor=input_tensor, weights='imagenet', include_top=False)\n",
    "\n",
    "# add a global spatial average pooling layer\n",
    "x = base_model.output\n",
    "x = GlobalAveragePooling2D()(x)\n",
    "x = Dense(1024, activation='relu')(x)\n",
    "x = Dropout(0.1)(x)\n",
    "x = Dense(1024, activation='relu')(x)\n",
    "x = Dropout(0.2)(x)\n",
    "predictions = Dense(2, activation='softmax')(x)\n",
    "\n",
    "model1 = Model(inputs=base_model.input, outputs=predictions)\n",
    "\n",
    "for layer in base_model.layers:\n",
    "    layer.trainable = False\n",
    "\n",
    "model1.compile(optimizer='rmsprop', loss='categorical_crossentropy', metrics=['acc'])"
   ]
  },
  {
   "cell_type": "code",
   "execution_count": 44,
   "metadata": {},
   "outputs": [],
   "source": [
    "checkpoint_path = \"training_incep2/cp.ckpt\"\n",
    "checkpoint_dir = os.path.dirname(checkpoint_path)"
   ]
  },
  {
   "cell_type": "code",
   "execution_count": 45,
   "metadata": {},
   "outputs": [
    {
     "name": "stdout",
     "output_type": "stream",
     "text": [
      "Epoch 1/20\n",
      "14/14 [==============================] - 86s 6s/step - loss: 9.8432 - acc: 0.6575 - val_loss: 0.2183 - val_acc: 0.9330\n",
      "\n",
      "Epoch 00001: saving model to training_incep2\\cp.ckpt\n",
      "Epoch 2/20\n",
      "14/14 [==============================] - 82s 6s/step - loss: 0.2370 - acc: 0.9027 - val_loss: 0.6391 - val_acc: 0.7902\n",
      "\n",
      "Epoch 00002: saving model to training_incep2\\cp.ckpt\n",
      "Epoch 3/20\n",
      "14/14 [==============================] - 81s 6s/step - loss: 0.4128 - acc: 0.8287 - val_loss: 0.2624 - val_acc: 0.9241\n",
      "\n",
      "Epoch 00003: saving model to training_incep2\\cp.ckpt\n",
      "Epoch 4/20\n",
      "14/14 [==============================] - 65s 5s/step - loss: 0.4181 - acc: 0.8490 - val_loss: 0.2463 - val_acc: 0.9375\n",
      "\n",
      "Epoch 00004: saving model to training_incep2\\cp.ckpt\n",
      "Epoch 5/20\n",
      "14/14 [==============================] - 60s 4s/step - loss: 0.3118 - acc: 0.8649 - val_loss: 0.2573 - val_acc: 0.9330\n",
      "\n",
      "Epoch 00005: saving model to training_incep2\\cp.ckpt\n",
      "Epoch 6/20\n",
      "14/14 [==============================] - 60s 4s/step - loss: 0.2375 - acc: 0.9095 - val_loss: 0.3751 - val_acc: 0.8929\n",
      "\n",
      "Epoch 00006: saving model to training_incep2\\cp.ckpt\n",
      "Epoch 7/20\n",
      "14/14 [==============================] - 60s 4s/step - loss: 0.2321 - acc: 0.9020 - val_loss: 0.1602 - val_acc: 0.9241\n",
      "\n",
      "Epoch 00007: saving model to training_incep2\\cp.ckpt\n",
      "Epoch 8/20\n",
      "14/14 [==============================] - 63s 5s/step - loss: 0.2047 - acc: 0.9427 - val_loss: 0.2912 - val_acc: 0.9107\n",
      "\n",
      "Epoch 00008: saving model to training_incep2\\cp.ckpt\n",
      "Epoch 9/20\n",
      "14/14 [==============================] - 62s 4s/step - loss: 0.1922 - acc: 0.9330 - val_loss: 0.2582 - val_acc: 0.9464\n",
      "\n",
      "Epoch 00009: saving model to training_incep2\\cp.ckpt\n",
      "Epoch 10/20\n",
      "14/14 [==============================] - 61s 4s/step - loss: 0.1501 - acc: 0.9513 - val_loss: 0.6128 - val_acc: 0.8750\n",
      "\n",
      "Epoch 00010: saving model to training_incep2\\cp.ckpt\n",
      "Epoch 11/20\n",
      "14/14 [==============================] - 63s 4s/step - loss: 0.2574 - acc: 0.9239 - val_loss: 0.3647 - val_acc: 0.9375\n",
      "\n",
      "Epoch 00011: saving model to training_incep2\\cp.ckpt\n",
      "Epoch 12/20\n",
      "14/14 [==============================] - 63s 5s/step - loss: 0.1472 - acc: 0.9343 - val_loss: 0.1297 - val_acc: 0.9509\n",
      "\n",
      "Epoch 00012: saving model to training_incep2\\cp.ckpt\n",
      "Epoch 13/20\n",
      "14/14 [==============================] - 61s 4s/step - loss: 0.1342 - acc: 0.9570 - val_loss: 0.4435 - val_acc: 0.9062\n",
      "\n",
      "Epoch 00013: saving model to training_incep2\\cp.ckpt\n",
      "Epoch 14/20\n",
      "14/14 [==============================] - 61s 4s/step - loss: 0.2255 - acc: 0.9115 - val_loss: 0.2632 - val_acc: 0.9598\n",
      "\n",
      "Epoch 00014: saving model to training_incep2\\cp.ckpt\n",
      "Epoch 15/20\n",
      "14/14 [==============================] - 61s 4s/step - loss: 0.1548 - acc: 0.9425 - val_loss: 0.3399 - val_acc: 0.9420\n",
      "\n",
      "Epoch 00015: saving model to training_incep2\\cp.ckpt\n",
      "Epoch 16/20\n",
      "14/14 [==============================] - 61s 4s/step - loss: 0.1472 - acc: 0.9483 - val_loss: 1.0860 - val_acc: 0.8080\n",
      "\n",
      "Epoch 00016: saving model to training_incep2\\cp.ckpt\n",
      "Epoch 17/20\n",
      "14/14 [==============================] - 59s 4s/step - loss: 0.3504 - acc: 0.8916 - val_loss: 0.2144 - val_acc: 0.9464\n",
      "\n",
      "Epoch 00017: saving model to training_incep2\\cp.ckpt\n",
      "Epoch 18/20\n",
      "14/14 [==============================] - 60s 4s/step - loss: 0.0768 - acc: 0.9709 - val_loss: 0.3495 - val_acc: 0.9509\n",
      "\n",
      "Epoch 00018: saving model to training_incep2\\cp.ckpt\n",
      "Epoch 19/20\n",
      "14/14 [==============================] - 61s 4s/step - loss: 0.1388 - acc: 0.9421 - val_loss: 0.4607 - val_acc: 0.9286\n",
      "\n",
      "Epoch 00019: saving model to training_incep2\\cp.ckpt\n",
      "Epoch 20/20\n",
      "14/14 [==============================] - 61s 4s/step - loss: 0.1928 - acc: 0.9392 - val_loss: 0.2284 - val_acc: 0.9643\n",
      "\n",
      "Epoch 00020: saving model to training_incep2\\cp.ckpt\n"
     ]
    }
   ],
   "source": [
    "class myCallback(tf.keras.callbacks.Callback):\n",
    "  def on_epoch_end(self, epoch, logs={}):\n",
    "    if(logs.get('val_loss')<=0.2099 and logs.get('loss')<=0.1500):\n",
    "      print('\\n\\n Reached The Destination!')\n",
    "      self.model.stop_training = True\n",
    "\n",
    "cp_callbacks = tf.keras.callbacks.ModelCheckpoint(filepath=checkpoint_path,\n",
    "                                                 save_weights_only=True,\n",
    "                                                 verbose=1)\n",
    "callbacks = myCallback()\n",
    "\n",
    "history1 = model1.fit(\n",
    "    train_generator,\n",
    "    steps_per_epoch = 14,\n",
    "    epochs = 20,\n",
    "    validation_data = validation_generator,\n",
    "    validation_steps = 14,\n",
    "    callbacks=[callbacks, cp_callbacks]\n",
    ")"
   ]
  },
  {
   "cell_type": "code",
   "execution_count": 46,
   "metadata": {},
   "outputs": [
    {
     "name": "stdout",
     "output_type": "stream",
     "text": [
      "21/21 - 13s - loss: 0.0771 - acc: 0.9659\n",
      "Model accuracy for the testing set: 96.59%\n"
     ]
    }
   ],
   "source": [
    "loss, acc = model1.evaluate(test_generator, verbose=2)\n",
    "print(\"Model accuracy for the testing set: {:5.2f}%\".format(100 * acc))"
   ]
  },
  {
   "cell_type": "code",
   "execution_count": 47,
   "metadata": {},
   "outputs": [
    {
     "data": {
      "image/png": "[encoded data removed]",
      "text/plain": [
       "<Figure size 432x288 with 1 Axes>"
      ]
     },
     "metadata": {
      "needs_background": "light"
     },
     "output_type": "display_data"
    },
    {
     "data": {
      "text/plain": [
       "<Figure size 432x288 with 0 Axes>"
      ]
     },
     "metadata": {},
     "output_type": "display_data"
    },
    {
     "data": {
      "image/png": "[encoded data removed]",
      "text/plain": [
       "<Figure size 432x288 with 1 Axes>"
      ]
     },
     "metadata": {
      "needs_background": "light"
     },
     "output_type": "display_data"
    },
    {
     "data": {
      "text/plain": [
       "<Figure size 432x288 with 0 Axes>"
      ]
     },
     "metadata": {},
     "output_type": "display_data"
    }
   ],
   "source": [
    "%matplotlib inline\n",
    "import matplotlib.pyplot as plt\n",
    "acc = history1.history['acc']\n",
    "val_acc = history1.history['val_acc']\n",
    "loss = history1.history['loss']\n",
    "val_loss = history1.history['val_loss']\n",
    "\n",
    "epochs = range(len(acc))\n",
    "\n",
    "plt.plot(epochs, acc, 'g', label='Training accuracy')\n",
    "plt.plot(epochs, val_acc, 'b', label='Validation accuracy')\n",
    "plt.title('Training and validation accuracy')\n",
    "\n",
    "plt.legend(loc=0)\n",
    "plt.figure()\n",
    "plt.show()\n",
    "\n",
    "plt.plot(epochs, loss, 'r', label='Training loss')\n",
    "plt.plot(epochs, val_loss, 'orange', label='Validation loss')\n",
    "plt.title('Training and validation loss')\n",
    "\n",
    "plt.legend(loc=0)\n",
    "plt.figure()\n",
    "plt.show()"
   ]
  },
  {
   "cell_type": "markdown",
   "metadata": {},
   "source": [
    "Third Set"
   ]
  },
  {
   "cell_type": "code",
   "execution_count": 10,
   "metadata": {},
   "outputs": [],
   "source": [
    "from tensorflow.keras.applications.inception_v3 import InceptionV3\n",
    "from tensorflow.keras.preprocessing import image\n",
    "from tensorflow.keras.models import Model\n",
    "from tensorflow.keras.layers import Dense, GlobalAveragePooling2D, Input, Dropout\n",
    "\n",
    "input_tensor = Input(shape=(224, 224, 3))\n",
    "\n",
    "base_model = InceptionV3(input_tensor=input_tensor, weights='imagenet', include_top=False)\n",
    "\n",
    "# add a global spatial average pooling layer\n",
    "x = base_model.output\n",
    "x = GlobalAveragePooling2D()(x)\n",
    "x = Dense(2048, activation='relu')(x)\n",
    "x = Dropout(0.25)(x)\n",
    "x = Dense(1024, activation='relu')(x)\n",
    "x = Dropout(0.2)(x)\n",
    "predictions = Dense(2, activation='softmax')(x)\n",
    "\n",
    "model = Model(inputs=base_model.input, outputs=predictions)\n",
    "\n",
    "for layer in base_model.layers:\n",
    "    layer.trainable = False\n",
    "\n",
    "model.compile(optimizer='rmsprop', loss='categorical_crossentropy', metrics=['acc'])"
   ]
  },
  {
   "cell_type": "code",
   "execution_count": 11,
   "metadata": {},
   "outputs": [],
   "source": [
    "import os\n",
    "checkpoint_path = \"training_incep3/cp.ckpt\"\n",
    "checkpoint_dir = os.path.dirname(checkpoint_path)"
   ]
  },
  {
   "cell_type": "code",
   "execution_count": 12,
   "metadata": {},
   "outputs": [
    {
     "name": "stdout",
     "output_type": "stream",
     "text": [
      "Epoch 1/20\n",
      "14/14 [==============================] - 61s 4s/step - loss: 14.0327 - acc: 0.5643 - val_loss: 0.6771 - val_acc: 0.5804\n",
      "\n",
      "Epoch 00001: saving model to training_incep3\\cp.ckpt\n",
      "Epoch 2/20\n",
      "14/14 [==============================] - 59s 4s/step - loss: 0.4555 - acc: 0.8251 - val_loss: 0.2925 - val_acc: 0.9062\n",
      "\n",
      "Epoch 00002: saving model to training_incep3\\cp.ckpt\n",
      "Epoch 3/20\n",
      "14/14 [==============================] - 61s 4s/step - loss: 0.3401 - acc: 0.8406 - val_loss: 0.4528 - val_acc: 0.8304\n",
      "\n",
      "Epoch 00003: saving model to training_incep3\\cp.ckpt\n",
      "Epoch 4/20\n",
      "14/14 [==============================] - 64s 5s/step - loss: 0.3610 - acc: 0.8527 - val_loss: 0.3103 - val_acc: 0.9241\n",
      "\n",
      "Epoch 00004: saving model to training_incep3\\cp.ckpt\n",
      "Epoch 5/20\n",
      "14/14 [==============================] - 65s 5s/step - loss: 0.3222 - acc: 0.8707 - val_loss: 0.2850 - val_acc: 0.8884\n",
      "\n",
      "Epoch 00005: saving model to training_incep3\\cp.ckpt\n",
      "Epoch 6/20\n",
      "14/14 [==============================] - 66s 5s/step - loss: 0.1948 - acc: 0.9041 - val_loss: 0.2431 - val_acc: 0.8839\n",
      "\n",
      "Epoch 00006: saving model to training_incep3\\cp.ckpt\n",
      "Epoch 7/20\n",
      "14/14 [==============================] - 65s 5s/step - loss: 0.2299 - acc: 0.9043 - val_loss: 0.1921 - val_acc: 0.9330\n",
      "\n",
      "Epoch 00007: saving model to training_incep3\\cp.ckpt\n",
      "Epoch 8/20\n",
      "14/14 [==============================] - 62s 4s/step - loss: 0.3102 - acc: 0.8791 - val_loss: 0.3722 - val_acc: 0.8929\n",
      "\n",
      "Epoch 00008: saving model to training_incep3\\cp.ckpt\n",
      "Epoch 9/20\n",
      "14/14 [==============================] - 66s 5s/step - loss: 0.1777 - acc: 0.9541 - val_loss: 0.2085 - val_acc: 0.9643\n",
      "\n",
      "Epoch 00009: saving model to training_incep3\\cp.ckpt\n",
      "Epoch 10/20\n",
      "14/14 [==============================] - 61s 4s/step - loss: 0.2045 - acc: 0.9177 - val_loss: 0.5619 - val_acc: 0.8661\n",
      "\n",
      "Epoch 00010: saving model to training_incep3\\cp.ckpt\n",
      "Epoch 11/20\n",
      "14/14 [==============================] - 60s 4s/step - loss: 0.2235 - acc: 0.9065 - val_loss: 0.3730 - val_acc: 0.8571\n",
      "\n",
      "Epoch 00011: saving model to training_incep3\\cp.ckpt\n",
      "Epoch 12/20\n",
      "14/14 [==============================] - 60s 4s/step - loss: 0.2371 - acc: 0.9088 - val_loss: 0.3588 - val_acc: 0.9375\n",
      "\n",
      "Epoch 00012: saving model to training_incep3\\cp.ckpt\n",
      "Epoch 13/20\n",
      "14/14 [==============================] - 60s 4s/step - loss: 0.1884 - acc: 0.9243 - val_loss: 0.2715 - val_acc: 0.9375\n",
      "\n",
      "Epoch 00013: saving model to training_incep3\\cp.ckpt\n",
      "Epoch 14/20\n",
      "14/14 [==============================] - 62s 4s/step - loss: 0.1811 - acc: 0.9434 - val_loss: 0.2451 - val_acc: 0.9643\n",
      "\n",
      "Epoch 00014: saving model to training_incep3\\cp.ckpt\n",
      "Epoch 15/20\n",
      "14/14 [==============================] - 61s 4s/step - loss: 0.1708 - acc: 0.9375 - val_loss: 0.2775 - val_acc: 0.9420\n",
      "\n",
      "Epoch 00015: saving model to training_incep3\\cp.ckpt\n",
      "Epoch 16/20\n",
      "14/14 [==============================] - 64s 5s/step - loss: 0.1899 - acc: 0.9337 - val_loss: 0.4131 - val_acc: 0.9152\n",
      "\n",
      "Epoch 00016: saving model to training_incep3\\cp.ckpt\n",
      "Epoch 17/20\n",
      "14/14 [==============================] - 64s 5s/step - loss: 0.1971 - acc: 0.9335 - val_loss: 0.3240 - val_acc: 0.9420\n",
      "\n",
      "Epoch 00017: saving model to training_incep3\\cp.ckpt\n",
      "Epoch 18/20\n",
      "14/14 [==============================] - 59s 4s/step - loss: 0.1366 - acc: 0.9414 - val_loss: 0.3190 - val_acc: 0.9688\n",
      "\n",
      "Epoch 00018: saving model to training_incep3\\cp.ckpt\n",
      "Epoch 19/20\n",
      "14/14 [==============================] - 61s 4s/step - loss: 0.2014 - acc: 0.9323 - val_loss: 0.4014 - val_acc: 0.9509\n",
      "\n",
      "Epoch 00019: saving model to training_incep3\\cp.ckpt\n",
      "Epoch 20/20\n",
      "14/14 [==============================] - 58s 4s/step - loss: 0.1169 - acc: 0.9607 - val_loss: 0.4780 - val_acc: 0.9375\n",
      "\n",
      "Epoch 00020: saving model to training_incep3\\cp.ckpt\n"
     ]
    }
   ],
   "source": [
    "import tensorflow as tf\n",
    "\n",
    "class myCallback(tf.keras.callbacks.Callback):\n",
    "  def on_epoch_end(self, epoch, logs={}):\n",
    "    if(logs.get('val_loss')<=0.2099 and logs.get('loss')<=0.1500):\n",
    "      print('\\n\\n Reached The Destination!')\n",
    "      self.model.stop_training = True\n",
    "\n",
    "cp_callbacks = tf.keras.callbacks.ModelCheckpoint(filepath=checkpoint_path,\n",
    "                                                 save_weights_only=True,\n",
    "                                                 verbose=1)\n",
    "callbacks = myCallback()\n",
    "\n",
    "history = model.fit(\n",
    "    train_generator,\n",
    "    steps_per_epoch = 14,\n",
    "    epochs = 20,\n",
    "    validation_data = validation_generator,\n",
    "    validation_steps = 14,\n",
    "    callbacks=[callbacks, cp_callbacks]\n",
    ")"
   ]
  },
  {
   "cell_type": "code",
   "execution_count": 14,
   "metadata": {},
   "outputs": [
    {
     "name": "stdout",
     "output_type": "stream",
     "text": [
      "21/21 - 15s - loss: 0.0844 - acc: 0.9752\n",
      "Model accuracy for the testing set: 97.52%\n"
     ]
    }
   ],
   "source": [
    "loss, acc = model.evaluate(test_generator, verbose=2)\n",
    "print(\"Model accuracy for the testing set: {:5.2f}%\".format(100 * acc))"
   ]
  },
  {
   "cell_type": "code",
   "execution_count": 15,
   "metadata": {},
   "outputs": [
    {
     "data": {
      "image/png": "[encoded data removed]",
      "text/plain": [
       "<Figure size 432x288 with 1 Axes>"
      ]
     },
     "metadata": {
      "needs_background": "light"
     },
     "output_type": "display_data"
    },
    {
     "data": {
      "text/plain": [
       "<Figure size 432x288 with 0 Axes>"
      ]
     },
     "metadata": {},
     "output_type": "display_data"
    },
    {
     "data": {
      "image/png": "[encoded data removed]",
      "text/plain": [
       "<Figure size 432x288 with 1 Axes>"
      ]
     },
     "metadata": {
      "needs_background": "light"
     },
     "output_type": "display_data"
    },
    {
     "data": {
      "text/plain": [
       "<Figure size 432x288 with 0 Axes>"
      ]
     },
     "metadata": {},
     "output_type": "display_data"
    }
   ],
   "source": [
    "%matplotlib inline\n",
    "import matplotlib.pyplot as plt\n",
    "acc = history.history['acc']\n",
    "val_acc = history.history['val_acc']\n",
    "loss = history.history['loss']\n",
    "val_loss = history.history['val_loss']\n",
    "\n",
    "epochs = range(len(acc))\n",
    "\n",
    "plt.plot(epochs, acc, 'g', label='Training accuracy')\n",
    "plt.plot(epochs, val_acc, 'b', label='Validation accuracy')\n",
    "plt.title('Training and validation accuracy')\n",
    "\n",
    "plt.legend(loc=0)\n",
    "plt.figure()\n",
    "plt.show()\n",
    "\n",
    "plt.plot(epochs, loss, 'r', label='Training loss')\n",
    "plt.plot(epochs, val_loss, 'orange', label='Validation loss')\n",
    "plt.title('Training and validation loss')\n",
    "\n",
    "plt.legend(loc=0)\n",
    "plt.figure()\n",
    "plt.show()"
   ]
  },
  {
   "cell_type": "markdown",
   "metadata": {},
   "source": [
    "# Results"
   ]
  },
  {
   "cell_type": "markdown",
   "metadata": {},
   "source": [
    "The models have given us very promising results, this will help in better fire detection than the primitive smoke detectors that we have now, the weights that we have saved of these models will be used to create a model in another file which will detect fire in a video from a webcam.\n",
    "\n",
    "This will be revolutionary in the detection of fire and in the prevention of several thousand rupees of damages and possibly deaths."
   ]
  },
  {
   "cell_type": "code",
   "execution_count": 19,
   "metadata": {},
   "outputs": [
    {
     "name": "stdout",
     "output_type": "stream",
     "text": [
      "The results of each of the models is as follows \n",
      "\n",
      "           Model  Training Accuracy  Validation Accuracy  Testing Accuracy\n",
      "0          CNN 1              93.40                90.00             91.02\n",
      "1          CNN 2              89.96                90.83             90.40\n",
      "2          CNN 3              94.53                91.67             93.50\n",
      "3  InceptionV3 1              95.12                94.64             96.90\n",
      "4  InceptionV3 2              95.80                95.09             97.21\n",
      "5  InceptionV3 3              96.07                93.75             97.52\n"
     ]
    }
   ],
   "source": [
    "import pandas as pd \n",
    "\n",
    "print(\"The results of each of the models is as follows \\n\")\n",
    "\n",
    "obj = (pd.DataFrame([[\"CNN 1\", 93.4, 90, 91.02],\n",
    "                     [\"CNN 2\", 89.96, 90.83, 90.40],\n",
    "                     [\"CNN 3\", 94.53, 91.67, 93.50],\n",
    "                     [\"InceptionV3 1\", 95.12, 94.64, 96.90],\n",
    "                     [\"InceptionV3 2\", 95.80, 95.09, 97.21],\n",
    "                     [\"InceptionV3 3\", 96.07, 93.75, 97.52]], columns = [\"Model\", \"Training Accuracy\", \"Validation Accuracy\", \"Testing Accuracy\"]))\n",
    "\n",
    "print(obj)"
   ]
  },
  {
   "cell_type": "code",
   "execution_count": null,
   "metadata": {},
   "outputs": [],
   "source": []
  }
 ],
 "metadata": {
  "kernelspec": {
   "display_name": "Python 3",
   "language": "python",
   "name": "python3"
  },
  "language_info": {
   "codemirror_mode": {
    "name": "ipython",
    "version": 3
   },
   "file_extension": ".py",
   "mimetype": "text/x-python",
   "name": "python",
   "nbconvert_exporter": "python",
   "pygments_lexer": "ipython3",
   "version": "3.8.5"
  }
 },
 "nbformat": 4,
 "nbformat_minor": 4
}
